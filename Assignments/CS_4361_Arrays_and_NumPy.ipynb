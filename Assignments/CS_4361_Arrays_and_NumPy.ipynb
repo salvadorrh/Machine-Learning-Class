{
  "nbformat": 4,
  "nbformat_minor": 0,
  "metadata": {
    "colab": {
      "name": "Copy of [Spring 2022] CS 4361 / 5361 - Arrays and NumPy",
      "provenance": [],
      "collapsed_sections": []
    },
    "kernelspec": {
      "name": "python3",
      "display_name": "Python 3"
    },
    "language_info": {
      "name": "python"
    }
  },
  "cells": [
    {
      "cell_type": "markdown",
      "source": [
        "\n",
        "\n",
        "# CS 4361 / 5361 - Arrays and NumPy\n"
      ],
      "metadata": {
        "id": "cxtMerWMjVK_"
      }
    },
    {
      "cell_type": "markdown",
      "source": [
        "## **Before you start**\n",
        "\n",
        "Make a copy of this Colab by clicking on File > Save a Copy in Drive\n",
        "\n",
        "After making a copy, add your student id, last name, and first name to the title."
      ],
      "metadata": {
        "id": "ZkYL2NC8jlWc"
      }
    },
    {
      "cell_type": "code",
      "source": [
        "student_name = \"Salvador Robles Herrera\"\n",
        "student_id = \"80683116\""
      ],
      "metadata": {
        "id": "cJEwic3AjnXk"
      },
      "execution_count": null,
      "outputs": []
    },
    {
      "cell_type": "markdown",
      "metadata": {
        "id": "SAR-RP97t8ap"
      },
      "source": [
        "## Arrays"
      ]
    },
    {
      "cell_type": "markdown",
      "metadata": {
        "id": "xxW5owwzuBdW"
      },
      "source": [
        "Arrays are not part of the language. We will use them through the NumPy library. \n",
        "Arrays are similar to lists, but all elements must be of the same type.\n"
      ]
    },
    {
      "cell_type": "markdown",
      "metadata": {
        "id": "OFLv81Rcv-4G"
      },
      "source": [
        "The NumPy library provides implementations of many useful operations on arrays of any dimensionality.  "
      ]
    },
    {
      "cell_type": "markdown",
      "metadata": {
        "id": "YnEBaPW8un1s"
      },
      "source": [
        "The following statement imports the library and declares np as short for NumPy. We can access functions and modules in the NumPy library by using the dot notation. "
      ]
    },
    {
      "cell_type": "code",
      "metadata": {
        "id": "KN_loq20t1l9"
      },
      "source": [
        "import numpy as np"
      ],
      "execution_count": 3,
      "outputs": []
    },
    {
      "cell_type": "markdown",
      "metadata": {
        "id": "mP4lN8l3v2C-"
      },
      "source": [
        "Arrays can be created in several ways."
      ]
    },
    {
      "cell_type": "markdown",
      "metadata": {
        "id": "JlJmKRMzwbld"
      },
      "source": [
        "We can convert a list to a 1-D array."
      ]
    },
    {
      "cell_type": "code",
      "metadata": {
        "id": "zG7GOtb4woBd",
        "colab": {
          "base_uri": "https://localhost:8080/"
        },
        "outputId": "1cf0b908-45ca-4563-f725-f660b228ed2d"
      },
      "source": [
        "a = np.array([1,2,3,4])\n",
        "print(a)"
      ],
      "execution_count": 4,
      "outputs": [
        {
          "output_type": "stream",
          "name": "stdout",
          "text": [
            "[1 2 3 4]\n"
          ]
        }
      ]
    },
    {
      "cell_type": "markdown",
      "metadata": {
        "id": "gk6eUXDZubwF"
      },
      "source": [
        "We can convert a list of lists to a 2-D array (or a list of lists of lists to a 3D array, and so on)."
      ]
    },
    {
      "cell_type": "code",
      "metadata": {
        "id": "B94ERMmsw-4i",
        "colab": {
          "base_uri": "https://localhost:8080/"
        },
        "outputId": "98615a5c-27df-457c-b27e-e8c66c9814f9"
      },
      "source": [
        "a = np.array([[1,2,3,4],[5,6,7,8]])\n",
        "print(a)"
      ],
      "execution_count": 5,
      "outputs": [
        {
          "output_type": "stream",
          "name": "stdout",
          "text": [
            "[[1 2 3 4]\n",
            " [5 6 7 8]]\n"
          ]
        }
      ]
    },
    {
      "cell_type": "markdown",
      "metadata": {
        "id": "opLOpMOvxFQ6"
      },
      "source": [
        "Unlike Java, NumPy does not allow jagged arrays. "
      ]
    },
    {
      "cell_type": "code",
      "metadata": {
        "id": "7Tj1MUk0xL0r",
        "colab": {
          "base_uri": "https://localhost:8080/"
        },
        "outputId": "4b57a538-715e-4a4c-ab95-bc414ac9f904"
      },
      "source": [
        "a = np.array([[1,2,3,4],[5,6,7]])\n",
        "print(a)"
      ],
      "execution_count": 6,
      "outputs": [
        {
          "output_type": "stream",
          "name": "stdout",
          "text": [
            "[list([1, 2, 3, 4]) list([5, 6, 7])]\n"
          ]
        },
        {
          "output_type": "stream",
          "name": "stderr",
          "text": [
            "/usr/local/lib/python3.7/dist-packages/ipykernel_launcher.py:1: VisibleDeprecationWarning: Creating an ndarray from ragged nested sequences (which is a list-or-tuple of lists-or-tuples-or ndarrays with different lengths or shapes) is deprecated. If you meant to do this, you must specify 'dtype=object' when creating the ndarray\n",
            "  \"\"\"Entry point for launching an IPython kernel.\n"
          ]
        }
      ]
    },
    {
      "cell_type": "markdown",
      "metadata": {
        "id": "26taW1s8xQfD"
      },
      "source": [
        "The array type is infered from the data provided"
      ]
    },
    {
      "cell_type": "code",
      "metadata": {
        "id": "W3w2rdUc9wmZ",
        "colab": {
          "base_uri": "https://localhost:8080/"
        },
        "outputId": "ee41d4ea-e8ea-49fd-cc6e-d05e9d01eac7"
      },
      "source": [
        "a = np.array([[1,2,3,4],[5,6,7,8]])\n",
        "print(a)"
      ],
      "execution_count": 7,
      "outputs": [
        {
          "output_type": "stream",
          "name": "stdout",
          "text": [
            "[[1 2 3 4]\n",
            " [5 6 7 8]]\n"
          ]
        }
      ]
    },
    {
      "cell_type": "code",
      "metadata": {
        "id": "uEpA1FA7xbOr",
        "colab": {
          "base_uri": "https://localhost:8080/"
        },
        "outputId": "014a70a7-8faa-4a00-a86e-ce90919cbd58"
      },
      "source": [
        "a = np.array([[1.5,2,3,4],[5,6,7,8]])\n",
        "print(a)"
      ],
      "execution_count": 8,
      "outputs": [
        {
          "output_type": "stream",
          "name": "stdout",
          "text": [
            "[[1.5 2.  3.  4. ]\n",
            " [5.  6.  7.  8. ]]\n"
          ]
        }
      ]
    },
    {
      "cell_type": "markdown",
      "metadata": {
        "id": "i1QRK33-xhdK"
      },
      "source": [
        "The function zeros creates an array full of zeros; the function ones creates an array full of ones, and the function empty creates an array whose initial content is random and depends on the state of the memory. By default, the dtype of the created array is float64."
      ]
    },
    {
      "cell_type": "code",
      "metadata": {
        "id": "zxTa9B1ox4ou",
        "colab": {
          "base_uri": "https://localhost:8080/"
        },
        "outputId": "c8629c06-d7eb-4130-ce81-4fbcd1e9ef62"
      },
      "source": [
        "a = np.zeros(5) # Create 1-D array\n",
        "print(a)"
      ],
      "execution_count": 9,
      "outputs": [
        {
          "output_type": "stream",
          "name": "stdout",
          "text": [
            "[0. 0. 0. 0. 0.]\n"
          ]
        }
      ]
    },
    {
      "cell_type": "code",
      "metadata": {
        "id": "e6YFA4o1yCTR",
        "colab": {
          "base_uri": "https://localhost:8080/"
        },
        "outputId": "a97a0b8f-791b-480f-c924-495157277727"
      },
      "source": [
        "a = np.zeros((5,3)) # Create 2-D array with 5 rows and 3 colummns\n",
        "print(a)"
      ],
      "execution_count": 10,
      "outputs": [
        {
          "output_type": "stream",
          "name": "stdout",
          "text": [
            "[[0. 0. 0.]\n",
            " [0. 0. 0.]\n",
            " [0. 0. 0.]\n",
            " [0. 0. 0.]\n",
            " [0. 0. 0.]]\n"
          ]
        }
      ]
    },
    {
      "cell_type": "code",
      "metadata": {
        "id": "IjVd6pzVyKRI",
        "colab": {
          "base_uri": "https://localhost:8080/"
        },
        "outputId": "09ef0fef-d6aa-471f-a834-01d20ed5a395"
      },
      "source": [
        "a = np.ones((2,3)) # Create 2-D array with 2 rows and 3 colummns\n",
        "print(a)"
      ],
      "execution_count": 11,
      "outputs": [
        {
          "output_type": "stream",
          "name": "stdout",
          "text": [
            "[[1. 1. 1.]\n",
            " [1. 1. 1.]]\n"
          ]
        }
      ]
    },
    {
      "cell_type": "markdown",
      "metadata": {
        "id": "9sFyMIi2yPl4"
      },
      "source": [
        "You can also specify the type"
      ]
    },
    {
      "cell_type": "code",
      "metadata": {
        "id": "1m3mXXqWySfJ",
        "colab": {
          "base_uri": "https://localhost:8080/"
        },
        "outputId": "0d6d5a3b-b173-4384-bf12-898ed690e7e9"
      },
      "source": [
        "a = np.ones((2,3),dtype=np.int16) # Create 2-D array with 2 rows and 3 colummns\n",
        "print(a)"
      ],
      "execution_count": 12,
      "outputs": [
        {
          "output_type": "stream",
          "name": "stdout",
          "text": [
            "[[1 1 1]\n",
            " [1 1 1]]\n"
          ]
        }
      ]
    },
    {
      "cell_type": "markdown",
      "metadata": {
        "id": "ZN-MDfKXydZ5"
      },
      "source": [
        "To create sequences of numbers, NumPy provides the arange function which is analogous to the Python built-in range, but returns an array."
      ]
    },
    {
      "cell_type": "code",
      "metadata": {
        "id": "UpOxj4fFyhgD",
        "colab": {
          "base_uri": "https://localhost:8080/"
        },
        "outputId": "662a8767-2b0c-48a0-f441-5df74448b731"
      },
      "source": [
        "a= np.arange(16)\n",
        "print(a)"
      ],
      "execution_count": 13,
      "outputs": [
        {
          "output_type": "stream",
          "name": "stdout",
          "text": [
            "[ 0  1  2  3  4  5  6  7  8  9 10 11 12 13 14 15]\n"
          ]
        }
      ]
    },
    {
      "cell_type": "code",
      "metadata": {
        "id": "OTPxhy0_yl-X",
        "colab": {
          "base_uri": "https://localhost:8080/"
        },
        "outputId": "d2108b1b-1c32-4e03-fecd-39922b187072"
      },
      "source": [
        "a= np.arange(20,100,10)\n",
        "print(a)"
      ],
      "execution_count": 14,
      "outputs": [
        {
          "output_type": "stream",
          "name": "stdout",
          "text": [
            "[20 30 40 50 60 70 80 90]\n"
          ]
        }
      ]
    },
    {
      "cell_type": "markdown",
      "metadata": {
        "id": "TS1wY6P5y5g_"
      },
      "source": [
        "The reshape operation can be used to change the dimensionality of an array (but the number of elements cannot change)."
      ]
    },
    {
      "cell_type": "code",
      "metadata": {
        "id": "HmxFl3b2zEu_",
        "colab": {
          "base_uri": "https://localhost:8080/"
        },
        "outputId": "1f69fb6f-b858-4f33-be41-dbf4a9dacb10"
      },
      "source": [
        "a= np.arange(15)\n",
        "print(a)\n",
        "b = a.reshape(5,3)\n",
        "print(b)\n",
        "print(b.shape)"
      ],
      "execution_count": 15,
      "outputs": [
        {
          "output_type": "stream",
          "name": "stdout",
          "text": [
            "[ 0  1  2  3  4  5  6  7  8  9 10 11 12 13 14]\n",
            "[[ 0  1  2]\n",
            " [ 3  4  5]\n",
            " [ 6  7  8]\n",
            " [ 9 10 11]\n",
            " [12 13 14]]\n",
            "(5, 3)\n"
          ]
        }
      ]
    },
    {
      "cell_type": "code",
      "metadata": {
        "id": "tllkQahQzL-v"
      },
      "source": [
        "a= np.arange(16)\n",
        "# b = a.reshape(4,5)\n",
        "# print(b)"
      ],
      "execution_count": 19,
      "outputs": []
    },
    {
      "cell_type": "markdown",
      "metadata": {
        "id": "Ni1aUyr4zYCX"
      },
      "source": [
        "reshape returns a copy of the array, without modifying the original array.\n"
      ]
    },
    {
      "cell_type": "code",
      "metadata": {
        "id": "jy4vora9zf1_",
        "colab": {
          "base_uri": "https://localhost:8080/"
        },
        "outputId": "9dbf99b5-39dc-4578-8ecd-df4fdc4540ce"
      },
      "source": [
        "a= np.arange(16)\n",
        "a.reshape(4,4)\n",
        "print(a)"
      ],
      "execution_count": 21,
      "outputs": [
        {
          "output_type": "stream",
          "name": "stdout",
          "text": [
            "[ 0  1  2  3  4  5  6  7  8  9 10 11 12 13 14 15]\n"
          ]
        }
      ]
    },
    {
      "cell_type": "markdown",
      "metadata": {
        "id": "7DLb5RBDasPF"
      },
      "source": [
        "a.shape is a tuple (an immutable list) that contains the size of each of the dimensions of array a. len(a.shape) contains the number of dimensions of a."
      ]
    },
    {
      "cell_type": "code",
      "metadata": {
        "id": "RMuvbnjOat19",
        "colab": {
          "base_uri": "https://localhost:8080/"
        },
        "outputId": "e40b65a2-151d-4ace-8b9c-ffd285faffa7"
      },
      "source": [
        "a= np.arange(16)\n",
        "print(a)\n",
        "print(a.shape)\n",
        "print(len(a.shape))\n",
        "b = a.reshape(4,4)\n",
        "print(b)\n",
        "print(b.shape)\n",
        "print(len(b.shape))\n",
        "c = a.reshape(2,2,4,1)\n",
        "print(c)\n",
        "print(c.shape)\n",
        "print(len(c.shape))"
      ],
      "execution_count": 61,
      "outputs": [
        {
          "output_type": "stream",
          "name": "stdout",
          "text": [
            "[ 0  1  2  3  4  5  6  7  8  9 10 11 12 13 14 15]\n",
            "(16,)\n",
            "1\n",
            "[[ 0  1  2  3]\n",
            " [ 4  5  6  7]\n",
            " [ 8  9 10 11]\n",
            " [12 13 14 15]]\n",
            "(4, 4)\n",
            "2\n",
            "[[[[ 0]\n",
            "   [ 1]\n",
            "   [ 2]\n",
            "   [ 3]]\n",
            "\n",
            "  [[ 4]\n",
            "   [ 5]\n",
            "   [ 6]\n",
            "   [ 7]]]\n",
            "\n",
            "\n",
            " [[[ 8]\n",
            "   [ 9]\n",
            "   [10]\n",
            "   [11]]\n",
            "\n",
            "  [[12]\n",
            "   [13]\n",
            "   [14]\n",
            "   [15]]]]\n",
            "(2, 2, 4, 1)\n",
            "4\n"
          ]
        }
      ]
    },
    {
      "cell_type": "markdown",
      "metadata": {
        "id": "D5A0KLm60OH2"
      },
      "source": [
        "Arithmetic operators on arrays apply elementwise. There's no need to write for loops to perform array operations!!!"
      ]
    },
    {
      "cell_type": "code",
      "metadata": {
        "id": "OA6yITiV0P0e",
        "colab": {
          "base_uri": "https://localhost:8080/"
        },
        "outputId": "c27a914e-d185-462a-fe10-8d0fc5a8048a"
      },
      "source": [
        "a= np.arange(16).reshape(4,4)\n",
        "print(a)\n",
        "print(a.shape[-1])\n",
        "b = a + 5\n",
        "print(b)\n",
        "c = a**2\n",
        "print(c)\n",
        "d = np.sin(a)\n",
        "print(d)\n",
        "print(a+b) \n",
        "print(a*c) "
      ],
      "execution_count": 66,
      "outputs": [
        {
          "output_type": "stream",
          "name": "stdout",
          "text": [
            "[[ 0  1  2  3]\n",
            " [ 4  5  6  7]\n",
            " [ 8  9 10 11]\n",
            " [12 13 14 15]]\n",
            "4\n",
            "[[ 5  6  7  8]\n",
            " [ 9 10 11 12]\n",
            " [13 14 15 16]\n",
            " [17 18 19 20]]\n",
            "[[  0   1   4   9]\n",
            " [ 16  25  36  49]\n",
            " [ 64  81 100 121]\n",
            " [144 169 196 225]]\n",
            "[[ 0.          0.84147098  0.90929743  0.14112001]\n",
            " [-0.7568025  -0.95892427 -0.2794155   0.6569866 ]\n",
            " [ 0.98935825  0.41211849 -0.54402111 -0.99999021]\n",
            " [-0.53657292  0.42016704  0.99060736  0.65028784]]\n",
            "[[ 5  7  9 11]\n",
            " [13 15 17 19]\n",
            " [21 23 25 27]\n",
            " [29 31 33 35]]\n",
            "[[   0    1    8   27]\n",
            " [  64  125  216  343]\n",
            " [ 512  729 1000 1331]\n",
            " [1728 2197 2744 3375]]\n"
          ]
        }
      ]
    },
    {
      "cell_type": "markdown",
      "metadata": {
        "id": "kExzNadI1jTO"
      },
      "source": [
        "Integer indexing works the same was as in Java "
      ]
    },
    {
      "cell_type": "code",
      "metadata": {
        "id": "rV_E5OnT00vH",
        "colab": {
          "base_uri": "https://localhost:8080/"
        },
        "outputId": "72f93251-8415-4c06-cb9a-d19f8fab5a62"
      },
      "source": [
        "print(a[2,-1])\n",
        "print(a[0,2])"
      ],
      "execution_count": 30,
      "outputs": [
        {
          "output_type": "stream",
          "name": "stdout",
          "text": [
            "11\n",
            "2\n"
          ]
        }
      ]
    },
    {
      "cell_type": "markdown",
      "metadata": {
        "id": "v6KWixes13A9"
      },
      "source": [
        "As with lists, negative indices (counting from the end) are allowed"
      ]
    },
    {
      "cell_type": "code",
      "metadata": {
        "id": "h02CTS2D19rk",
        "colab": {
          "base_uri": "https://localhost:8080/"
        },
        "outputId": "c3f13078-b219-4229-fd19-975711b1295f"
      },
      "source": [
        "print(a[0,-1])\n",
        "print(a[-1,0])"
      ],
      "execution_count": 31,
      "outputs": [
        {
          "output_type": "stream",
          "name": "stdout",
          "text": [
            "3\n",
            "12\n"
          ]
        }
      ]
    },
    {
      "cell_type": "markdown",
      "metadata": {
        "id": "Ge-SNtNv2SBt"
      },
      "source": [
        "Slicing works the same ways as with lists, with one slice per dimension"
      ]
    },
    {
      "cell_type": "code",
      "metadata": {
        "id": "aOS1NrPD2ReM",
        "colab": {
          "base_uri": "https://localhost:8080/"
        },
        "outputId": "5b4169c4-baf9-4c65-dddd-af0d2fb755e4"
      },
      "source": [
        "print(a[1:,1::])  # Select rows 0 and 1 and columns 1,2, and 3"
      ],
      "execution_count": 39,
      "outputs": [
        {
          "output_type": "stream",
          "name": "stdout",
          "text": [
            "[[ 5  6  7]\n",
            " [ 9 10 11]\n",
            " [13 14 15]]\n"
          ]
        }
      ]
    },
    {
      "cell_type": "code",
      "metadata": {
        "id": "QtvyF0GG2ogU",
        "colab": {
          "base_uri": "https://localhost:8080/"
        },
        "outputId": "69fe50f9-5e30-4f74-886f-5488bd2a2376"
      },
      "source": [
        "print(a[::2,1::2])  # Select rows 0 and 2 and columns 1 and 3"
      ],
      "execution_count": 40,
      "outputs": [
        {
          "output_type": "stream",
          "name": "stdout",
          "text": [
            "[[ 1  3]\n",
            " [ 9 11]]\n"
          ]
        }
      ]
    },
    {
      "cell_type": "code",
      "metadata": {
        "id": "CPryVII52-MM",
        "colab": {
          "base_uri": "https://localhost:8080/"
        },
        "outputId": "04be3b16-5808-47d3-8ab9-b269c525cdc2"
      },
      "source": [
        "print(a[:,::-1])  # Reverse the order of columns\n",
        "print(a[:,::])"
      ],
      "execution_count": 44,
      "outputs": [
        {
          "output_type": "stream",
          "name": "stdout",
          "text": [
            "[[ 3  2  1  0]\n",
            " [ 7  6  5  4]\n",
            " [11 10  9  8]\n",
            " [15 14 13 12]]\n",
            "[[ 0  1  2  3]\n",
            " [ 4  5  6  7]\n",
            " [ 8  9 10 11]\n",
            " [12 13 14 15]]\n"
          ]
        }
      ]
    },
    {
      "cell_type": "code",
      "metadata": {
        "id": "hQ2Sw7sv2z0V",
        "colab": {
          "base_uri": "https://localhost:8080/"
        },
        "outputId": "335a8744-9e2a-4e70-cdac-7d652b7a14fd"
      },
      "source": [
        "print(a[::-1,:])  # Reverse the order of rows"
      ],
      "execution_count": null,
      "outputs": [
        {
          "output_type": "stream",
          "name": "stdout",
          "text": [
            "[[12 13 14 15]\n",
            " [ 8  9 10 11]\n",
            " [ 4  5  6  7]\n",
            " [ 0  1  2  3]]\n"
          ]
        }
      ]
    },
    {
      "cell_type": "code",
      "metadata": {
        "id": "zUsHKURK3JF8",
        "colab": {
          "base_uri": "https://localhost:8080/"
        },
        "outputId": "9055c899-b03d-40cc-cbd7-b4e6d2ab4eb8"
      },
      "source": [
        "print(a[::-1])  # Reverse the order of rows, trailing ':' may be ommited"
      ],
      "execution_count": 46,
      "outputs": [
        {
          "output_type": "stream",
          "name": "stdout",
          "text": [
            "[[12 13 14 15]\n",
            " [ 8  9 10 11]\n",
            " [ 4  5  6  7]\n",
            " [ 0  1  2  3]]\n"
          ]
        }
      ]
    },
    {
      "cell_type": "markdown",
      "metadata": {
        "id": "Jo8Jf0Zg3UOV"
      },
      "source": [
        "We can use lists of the same length as indices"
      ]
    },
    {
      "cell_type": "code",
      "metadata": {
        "id": "TcbHkELY3Zkc",
        "colab": {
          "base_uri": "https://localhost:8080/"
        },
        "outputId": "4266d74f-636b-45bc-fe09-d3cede870080"
      },
      "source": [
        "c = a[[2,3,1],[1,0,3]] # Returns 1-D array containing [a[2,1], a[3,0], a[1,3]]\n",
        "print(a)\n",
        "print()\n",
        "print(c)"
      ],
      "execution_count": 59,
      "outputs": [
        {
          "output_type": "stream",
          "name": "stdout",
          "text": [
            "[[0.10762368 0.65562766 0.30022721 ... 0.93065847 0.09144402 0.13896894]\n",
            " [0.53463505 0.54102933 0.50784977 ... 0.90625811 0.2027442  0.48721375]\n",
            " [0.44266622 0.61631652 0.49116447 ... 0.33681719 0.37050763 0.7211091 ]\n",
            " ...\n",
            " [0.09312571 0.46408966 0.9830348  ... 0.32315126 0.28202808 0.70911768]\n",
            " [0.95759386 0.0604034  0.54100941 ... 0.25958262 0.22671794 0.876434  ]\n",
            " [0.54201126 0.22574379 0.52061223 ... 0.12406241 0.98359304 0.24542165]]\n",
            "\n",
            "[0.61631652 0.91020196 0.69879388]\n"
          ]
        }
      ]
    },
    {
      "cell_type": "markdown",
      "metadata": {
        "id": "vB02YnA17B2t"
      },
      "source": [
        "We can assign values to array elements and slices"
      ]
    },
    {
      "cell_type": "code",
      "metadata": {
        "id": "2aQdIUDe7hEO",
        "colab": {
          "base_uri": "https://localhost:8080/"
        },
        "outputId": "f5615bd9-04e2-48f7-9b08-de4af1beb566"
      },
      "source": [
        "a= np.arange(16).reshape(4,4)\n",
        "print(a)\n",
        "a[2,3] = -100\n",
        "print(a)"
      ],
      "execution_count": 55,
      "outputs": [
        {
          "output_type": "stream",
          "name": "stdout",
          "text": [
            "[[ 0  1  2  3]\n",
            " [ 4  5  6  7]\n",
            " [ 8  9 10 11]\n",
            " [12 13 14 15]]\n",
            "[[   0    1    2    3]\n",
            " [   4    5    6    7]\n",
            " [   8    9   10 -100]\n",
            " [  12   13   14   15]]\n"
          ]
        }
      ]
    },
    {
      "cell_type": "code",
      "metadata": {
        "id": "5lK7umR172OC",
        "colab": {
          "base_uri": "https://localhost:8080/"
        },
        "outputId": "70bee9e8-d58d-4af5-d58b-91cbc4b1b4f1"
      },
      "source": [
        "a= np.arange(16).reshape(4,4)\n",
        "print(a)\n",
        "a[:2,1:] = -100\n",
        "print(a)"
      ],
      "execution_count": 56,
      "outputs": [
        {
          "output_type": "stream",
          "name": "stdout",
          "text": [
            "[[ 0  1  2  3]\n",
            " [ 4  5  6  7]\n",
            " [ 8  9 10 11]\n",
            " [12 13 14 15]]\n",
            "[[   0 -100 -100 -100]\n",
            " [   4 -100 -100 -100]\n",
            " [   8    9   10   11]\n",
            " [  12   13   14   15]]\n"
          ]
        }
      ]
    },
    {
      "cell_type": "markdown",
      "metadata": {
        "id": "UbFXERWS-Iex"
      },
      "source": [
        "You can perform elementwise operations on array slices if they are the same size"
      ]
    },
    {
      "cell_type": "code",
      "metadata": {
        "id": "VW5x_E8h-e6K",
        "colab": {
          "base_uri": "https://localhost:8080/"
        },
        "outputId": "e0e76bb5-3224-46ca-e140-d8fe6dda5f8c"
      },
      "source": [
        "a= np.arange(16).reshape(4,4)\n",
        "print(a)\n",
        "b = np.arange(6).reshape(2,3)\n",
        "print(b)\n",
        "a[:2,1:] = a[:2,1:] - b\n",
        "print(a)"
      ],
      "execution_count": null,
      "outputs": [
        {
          "output_type": "stream",
          "name": "stdout",
          "text": [
            "[[ 0  1  2  3]\n",
            " [ 4  5  6  7]\n",
            " [ 8  9 10 11]\n",
            " [12 13 14 15]]\n",
            "[[0 1 2]\n",
            " [3 4 5]]\n",
            "[[ 0  1  1  1]\n",
            " [ 4  2  2  2]\n",
            " [ 8  9 10 11]\n",
            " [12 13 14 15]]\n"
          ]
        }
      ]
    },
    {
      "cell_type": "markdown",
      "metadata": {
        "id": "SNMUENZJ_e8r"
      },
      "source": [
        "Warning - arrays are passed by reference; array assignments are shallow"
      ]
    },
    {
      "cell_type": "code",
      "metadata": {
        "id": "4N0Qhuzt_ngj",
        "colab": {
          "base_uri": "https://localhost:8080/"
        },
        "outputId": "735a1f61-d49d-44f0-f257-1f94840cd8fd"
      },
      "source": [
        "a= np.arange(16).reshape(4,4)\n",
        "print(a)\n",
        "b = a\n",
        "b[0,0] = 2302\n",
        "print(a)"
      ],
      "execution_count": null,
      "outputs": [
        {
          "output_type": "stream",
          "name": "stdout",
          "text": [
            "[[ 0  1  2  3]\n",
            " [ 4  5  6  7]\n",
            " [ 8  9 10 11]\n",
            " [12 13 14 15]]\n",
            "[[2302    1    2    3]\n",
            " [   4    5    6    7]\n",
            " [   8    9   10   11]\n",
            " [  12   13   14   15]]\n"
          ]
        }
      ]
    },
    {
      "cell_type": "markdown",
      "metadata": {
        "id": "FFgzt-HgACYS"
      },
      "source": [
        "This will make a deep copy of a"
      ]
    },
    {
      "cell_type": "code",
      "metadata": {
        "id": "q8brWVR3_4Rb",
        "colab": {
          "base_uri": "https://localhost:8080/"
        },
        "outputId": "cb15465d-3c27-447b-b9ca-371b43f1da9a"
      },
      "source": [
        "a= np.arange(16).reshape(4,4)\n",
        "print(a)\n",
        "b = np.copy(a)\n",
        "b[0,0] = 2302\n",
        "print(a)\n",
        "print(b)\n"
      ],
      "execution_count": null,
      "outputs": [
        {
          "output_type": "stream",
          "name": "stdout",
          "text": [
            "[[ 0  1  2  3]\n",
            " [ 4  5  6  7]\n",
            " [ 8  9 10 11]\n",
            " [12 13 14 15]]\n",
            "[[ 0  1  2  3]\n",
            " [ 4  5  6  7]\n",
            " [ 8  9 10 11]\n",
            " [12 13 14 15]]\n",
            "[[2302    1    2    3]\n",
            " [   4    5    6    7]\n",
            " [   8    9   10   11]\n",
            " [  12   13   14   15]]\n"
          ]
        }
      ]
    },
    {
      "cell_type": "markdown",
      "metadata": {
        "id": "17jt9dOZAUIZ"
      },
      "source": [
        "NumPy provides LOTS of array operations. See:\n",
        "https://numpy.org/doc/stable/reference/routines.math.html"
      ]
    },
    {
      "cell_type": "markdown",
      "metadata": {
        "id": "OTcg3FcNqOLL"
      },
      "source": [
        "Commonly use built-in functions:\n"
      ]
    },
    {
      "cell_type": "code",
      "metadata": {
        "id": "4Vdbi3p5qS_S"
      },
      "source": [
        "a = np.array([60,  0, 70, 50, 10, 30, 90, 40, 80, 20])"
      ],
      "execution_count": null,
      "outputs": []
    },
    {
      "cell_type": "code",
      "metadata": {
        "id": "4FJIOXE5qhdA",
        "colab": {
          "base_uri": "https://localhost:8080/"
        },
        "outputId": "4db1a2ac-fc76-4e7f-8d1b-8bb85ede2f75"
      },
      "source": [
        "print(np.min(a))"
      ],
      "execution_count": null,
      "outputs": [
        {
          "output_type": "stream",
          "name": "stdout",
          "text": [
            "0\n"
          ]
        }
      ]
    },
    {
      "cell_type": "code",
      "metadata": {
        "id": "FE7Dyxe3qvd1",
        "colab": {
          "base_uri": "https://localhost:8080/"
        },
        "outputId": "dd0d0088-b6ed-4d3c-a7fa-730fcaabfec6"
      },
      "source": [
        "print(np.max(a))"
      ],
      "execution_count": null,
      "outputs": [
        {
          "output_type": "stream",
          "name": "stdout",
          "text": [
            "90\n"
          ]
        }
      ]
    },
    {
      "cell_type": "code",
      "metadata": {
        "id": "qp5Ooa8aqzpU",
        "colab": {
          "base_uri": "https://localhost:8080/"
        },
        "outputId": "431a6f02-df38-453f-f6f7-cb52017dba25"
      },
      "source": [
        "print(np.mean(a))"
      ],
      "execution_count": null,
      "outputs": [
        {
          "output_type": "stream",
          "name": "stdout",
          "text": [
            "45.0\n"
          ]
        }
      ]
    },
    {
      "cell_type": "code",
      "metadata": {
        "id": "KDNG0sVHq3xl",
        "colab": {
          "base_uri": "https://localhost:8080/"
        },
        "outputId": "5e21d2bf-b675-4e33-f7ea-ddad2030fe6b"
      },
      "source": [
        "print(np.argmax(a)) # Returns the index of the maximum element in a"
      ],
      "execution_count": null,
      "outputs": [
        {
          "output_type": "stream",
          "name": "stdout",
          "text": [
            "6\n"
          ]
        }
      ]
    },
    {
      "cell_type": "code",
      "metadata": {
        "id": "uDXRlorirDWY",
        "colab": {
          "base_uri": "https://localhost:8080/"
        },
        "outputId": "6e0c8c80-a37e-49b2-cba2-b752744b8153"
      },
      "source": [
        "print(np.argmin(a)) # Returns the index of the minimum element in a"
      ],
      "execution_count": null,
      "outputs": [
        {
          "output_type": "stream",
          "name": "stdout",
          "text": [
            "1\n"
          ]
        }
      ]
    },
    {
      "cell_type": "markdown",
      "metadata": {
        "id": "aCVxqc-aAcIR"
      },
      "source": [
        "Since Python is an interpreted language, loops are slow. See the comparative running time of the same operation with and without loops. "
      ]
    },
    {
      "cell_type": "code",
      "metadata": {
        "id": "Maehku9EA07v",
        "colab": {
          "base_uri": "https://localhost:8080/"
        },
        "outputId": "b0bc7c94-f0c5-4c80-bbcb-22e8ac51104c"
      },
      "source": [
        "import time\n",
        "\n",
        "def sum_array_loops(a,b): \n",
        "  c = np.zeros_like(a) \n",
        "  for i in range(a.shape[0]):\n",
        "    for j in range(a.shape[1]):\n",
        "      c[i,j] =  a[i,j] + b[i,j]\n",
        "  return c\n",
        "\n",
        "def sum_array(a,b): \n",
        "  c = a +b\n",
        "  return c\n",
        "  \n",
        "size = 2000\n",
        "\n",
        "a = np.random.random((size,size))\n",
        "b = np.random.random((size,size))\n",
        "\n",
        "start = time.time()\n",
        "c = sum_array_loops(a,b)\n",
        "elapsed_time1 = time.time() - start\n",
        "print('elapsed time using loops', elapsed_time1,'secs')\n",
        "\n",
        "start = time.time()\n",
        "c = sum_array(a,b)\n",
        "elapsed_time2 = time.time() - start\n",
        "print('elapsed time without loops', elapsed_time2,'secs')\n",
        "\n",
        "print('ratio',elapsed_time1/elapsed_time2)"
      ],
      "execution_count": 57,
      "outputs": [
        {
          "output_type": "stream",
          "name": "stdout",
          "text": [
            "elapsed time using loops 2.7414419651031494 secs\n",
            "elapsed time without loops 0.025338172912597656 secs\n",
            "ratio 108.19414543264708\n"
          ]
        }
      ]
    },
    {
      "cell_type": "markdown",
      "metadata": {
        "id": "JIYD-YUOeqlc"
      },
      "source": [
        "### Arrays as indices"
      ]
    },
    {
      "cell_type": "markdown",
      "metadata": {
        "id": "-PTlOtVPew95"
      },
      "source": [
        "In addition to slicing, we can use arrays as indices to other arrays. The resulting array will have the shape of the index array.\n",
        "\n"
      ]
    },
    {
      "cell_type": "markdown",
      "metadata": {
        "id": "NV0bVrSEfAM_"
      },
      "source": [
        "**Example:**"
      ]
    },
    {
      "cell_type": "code",
      "metadata": {
        "id": "wI1oWDMSfCwu",
        "colab": {
          "base_uri": "https://localhost:8080/"
        },
        "outputId": "84a8f8fb-f066-4fee-bdfa-5a94fc0e325e"
      },
      "source": [
        "A = np.arange(0,100,10)\n",
        "print(A)\n",
        "index = np.arange(4).reshape(2,2)\n",
        "print(index)\n",
        "print(A[index])"
      ],
      "execution_count": 68,
      "outputs": [
        {
          "output_type": "stream",
          "name": "stdout",
          "text": [
            "[ 0 10 20 30 40 50 60 70 80 90]\n",
            "[[0 1]\n",
            " [2 3]]\n",
            "[[ 0 10]\n",
            " [20 30]]\n"
          ]
        }
      ]
    },
    {
      "cell_type": "markdown",
      "metadata": {
        "id": "QCLXQBYOgtgK"
      },
      "source": [
        "### Boolean indexing"
      ]
    },
    {
      "cell_type": "markdown",
      "metadata": {
        "id": "tpPAmhtAgxrG"
      },
      "source": [
        "We can use a boolean array as index. "
      ]
    },
    {
      "cell_type": "code",
      "metadata": {
        "id": "2JRY0Z3cg8rt",
        "colab": {
          "base_uri": "https://localhost:8080/"
        },
        "outputId": "724b4164-6e6f-4b00-f166-9538922d10b4"
      },
      "source": [
        "A = np.arange(0,15)\n",
        "ind = A%3==0\n",
        "print(A)\n",
        "print(ind)\n",
        "print(A[ind])"
      ],
      "execution_count": null,
      "outputs": [
        {
          "output_type": "stream",
          "name": "stdout",
          "text": [
            "[ 0  1  2  3  4  5  6  7  8  9 10 11 12 13 14]\n",
            "[ True False False  True False False  True False False  True False False\n",
            "  True False False]\n",
            "[ 0  3  6  9 12]\n"
          ]
        }
      ]
    },
    {
      "cell_type": "markdown",
      "metadata": {
        "id": "UnT_XUJjBET2"
      },
      "source": [
        "### Broadcasting"
      ]
    },
    {
      "cell_type": "markdown",
      "metadata": {
        "id": "JLMG2paWBIcB"
      },
      "source": [
        "The term broadcasting describes how NumPy treats arrays with different shapes during arithmetic operations. Subject to certain constraints, the smaller array is “broadcast” (conceptually, it is replicated, but no actual copies are made)  across the larger array so that they have compatible shapes. Broadcasting provides a means of vectorizing array operations so that looping occurs in C instead of Python."
      ]
    },
    {
      "cell_type": "markdown",
      "metadata": {
        "id": "C5p5uTCaBhL4"
      },
      "source": [
        "Two dimensions are compatible when they are equal, or one of them is 1"
      ]
    },
    {
      "cell_type": "code",
      "metadata": {
        "id": "WfrU5pQSBrQd",
        "colab": {
          "base_uri": "https://localhost:8080/"
        },
        "outputId": "b5ce9861-ae32-44e4-d850-09be1c452c90"
      },
      "source": [
        "A = np.arange(20).reshape(4,5)\n",
        "A\n"
      ],
      "execution_count": 69,
      "outputs": [
        {
          "output_type": "execute_result",
          "data": {
            "text/plain": [
              "array([[ 0,  1,  2,  3,  4],\n",
              "       [ 5,  6,  7,  8,  9],\n",
              "       [10, 11, 12, 13, 14],\n",
              "       [15, 16, 17, 18, 19]])"
            ]
          },
          "metadata": {},
          "execution_count": 69
        }
      ]
    },
    {
      "cell_type": "markdown",
      "metadata": {
        "id": "F1iIMFm0CGIR"
      },
      "source": [
        "Since A and B have the same shape, they are compatible. Thus we can perform arithmetic operations with them."
      ]
    },
    {
      "cell_type": "code",
      "metadata": {
        "id": "Ovs5hC5UB4cf",
        "colab": {
          "base_uri": "https://localhost:8080/"
        },
        "outputId": "95e2b34b-c0fc-4144-cf5f-042026a061fa"
      },
      "source": [
        "B = np.random.randint(0,20,size=(4,5))\n",
        "B"
      ],
      "execution_count": 70,
      "outputs": [
        {
          "output_type": "execute_result",
          "data": {
            "text/plain": [
              "array([[19,  5,  4,  3,  0],\n",
              "       [15, 15, 10,  8, 13],\n",
              "       [16, 17, 13, 19,  9],\n",
              "       [12,  9,  2, 18,  9]])"
            ]
          },
          "metadata": {},
          "execution_count": 70
        }
      ]
    },
    {
      "cell_type": "code",
      "metadata": {
        "id": "DH1PfphcCOJe",
        "colab": {
          "base_uri": "https://localhost:8080/"
        },
        "outputId": "26648502-b11e-4e58-8d10-0a9ea8167fd7"
      },
      "source": [
        "A+B"
      ],
      "execution_count": null,
      "outputs": [
        {
          "output_type": "execute_result",
          "data": {
            "text/plain": [
              "array([[ 8,  2, 13,  9, 23],\n",
              "       [23, 13, 18, 20, 27],\n",
              "       [23, 16, 16, 27, 22],\n",
              "       [33, 29, 21, 25, 26]])"
            ]
          },
          "metadata": {},
          "execution_count": 278
        }
      ]
    },
    {
      "cell_type": "code",
      "metadata": {
        "id": "bOObp8HlCR-w",
        "colab": {
          "base_uri": "https://localhost:8080/"
        },
        "outputId": "2c0a6836-69eb-4257-987e-f8162080e43d"
      },
      "source": [
        "A*B"
      ],
      "execution_count": null,
      "outputs": [
        {
          "output_type": "execute_result",
          "data": {
            "text/plain": [
              "array([[  0,   1,  22,  18,  76],\n",
              "       [ 90,  42,  77,  96, 162],\n",
              "       [130,  55,  48, 182, 112],\n",
              "       [270, 208,  68, 126, 133]])"
            ]
          },
          "metadata": {},
          "execution_count": 279
        }
      ]
    },
    {
      "cell_type": "code",
      "metadata": {
        "id": "q4ufGF3SCUdo",
        "colab": {
          "base_uri": "https://localhost:8080/"
        },
        "outputId": "ee07db0f-a4b0-46d4-a9cc-20636d1df01c"
      },
      "source": [
        "A==B"
      ],
      "execution_count": null,
      "outputs": [
        {
          "output_type": "execute_result",
          "data": {
            "text/plain": [
              "array([[False,  True, False, False, False],\n",
              "       [False, False, False, False, False],\n",
              "       [False, False, False, False, False],\n",
              "       [False, False, False, False, False]])"
            ]
          },
          "metadata": {},
          "execution_count": 280
        }
      ]
    },
    {
      "cell_type": "markdown",
      "metadata": {
        "id": "4jz37yuvCeRM"
      },
      "source": [
        "Let the shape of A be (r,c). With broadcasting, we can also perform arithmetic operations with A and arrays of sizes (1,c) and (r,1). "
      ]
    },
    {
      "cell_type": "code",
      "metadata": {
        "id": "_iepRETCCaK1"
      },
      "source": [
        "C = np.arange(5).reshape(1,5)\n",
        "D = np.arange(4).reshape(4,1)"
      ],
      "execution_count": 80,
      "outputs": []
    },
    {
      "cell_type": "code",
      "metadata": {
        "id": "gojVFPHUDSMp",
        "colab": {
          "base_uri": "https://localhost:8080/"
        },
        "outputId": "231861cf-78c5-4dfe-a712-3c5015a1528f"
      },
      "source": [
        "C"
      ],
      "execution_count": 81,
      "outputs": [
        {
          "output_type": "execute_result",
          "data": {
            "text/plain": [
              "array([[0, 1, 2, 3, 4]])"
            ]
          },
          "metadata": {},
          "execution_count": 81
        }
      ]
    },
    {
      "cell_type": "code",
      "metadata": {
        "id": "6GSucDiHDRLJ",
        "colab": {
          "base_uri": "https://localhost:8080/"
        },
        "outputId": "a394185b-d7aa-4c15-fc2e-691fa8b5574a"
      },
      "source": [
        "D"
      ],
      "execution_count": 82,
      "outputs": [
        {
          "output_type": "execute_result",
          "data": {
            "text/plain": [
              "array([[0],\n",
              "       [1],\n",
              "       [2],\n",
              "       [3]])"
            ]
          },
          "metadata": {},
          "execution_count": 82
        }
      ]
    },
    {
      "cell_type": "code",
      "metadata": {
        "id": "OxrUg95DDXj-",
        "colab": {
          "base_uri": "https://localhost:8080/"
        },
        "outputId": "4cac10c9-5783-4374-858b-96e677be5885"
      },
      "source": [
        "A * C"
      ],
      "execution_count": 83,
      "outputs": [
        {
          "output_type": "execute_result",
          "data": {
            "text/plain": [
              "array([[ 0,  1,  4,  9, 16],\n",
              "       [ 0,  6, 14, 24, 36],\n",
              "       [ 0, 11, 24, 39, 56],\n",
              "       [ 0, 16, 34, 54, 76]])"
            ]
          },
          "metadata": {},
          "execution_count": 83
        }
      ]
    },
    {
      "cell_type": "code",
      "metadata": {
        "id": "i1FytMR_Db3z",
        "colab": {
          "base_uri": "https://localhost:8080/"
        },
        "outputId": "6db53fbc-83be-4f81-cc56-094f2ac00935"
      },
      "source": [
        "A * D"
      ],
      "execution_count": null,
      "outputs": [
        {
          "output_type": "execute_result",
          "data": {
            "text/plain": [
              "array([[ 0,  0,  0,  0,  0],\n",
              "       [ 5,  6,  7,  8,  9],\n",
              "       [20, 22, 24, 26, 28],\n",
              "       [45, 48, 51, 54, 57]])"
            ]
          },
          "metadata": {},
          "execution_count": 285
        }
      ]
    },
    {
      "cell_type": "markdown",
      "metadata": {
        "id": "KMsfAlyYgNMh"
      },
      "source": [
        "Similarly, we can perform operations on a (r,1) and a (1,c) array and obtain a (r,c) array."
      ]
    },
    {
      "cell_type": "code",
      "metadata": {
        "id": "FxidOyPAfkZ6",
        "colab": {
          "base_uri": "https://localhost:8080/"
        },
        "outputId": "897a1f92-2e4e-4cba-980c-b59cf586cc64"
      },
      "source": [
        "R = np.arange(5).reshape(-1,1)\n",
        "C = np.arange(10,17).reshape(1,-1)\n",
        "print(R)\n",
        "print(C)\n",
        "print(R*C)"
      ],
      "execution_count": null,
      "outputs": [
        {
          "output_type": "stream",
          "name": "stdout",
          "text": [
            "[[0]\n",
            " [1]\n",
            " [2]\n",
            " [3]\n",
            " [4]]\n",
            "[[10 11 12 13 14 15 16]]\n",
            "[[ 0  0  0  0  0  0  0]\n",
            " [10 11 12 13 14 15 16]\n",
            " [20 22 24 26 28 30 32]\n",
            " [30 33 36 39 42 45 48]\n",
            " [40 44 48 52 56 60 64]]\n"
          ]
        }
      ]
    },
    {
      "cell_type": "markdown",
      "metadata": {
        "id": "rWjHCu4fEJ2q"
      },
      "source": [
        "## **Exercises**\n"
      ]
    },
    {
      "cell_type": "markdown",
      "metadata": {
        "id": "4nd0o5JXs6eq"
      },
      "source": [
        "Write the function is_square(a) that receives an array a and determines if a is square (that is, it has exactly two dimensions and they have the same size).\n"
      ]
    },
    {
      "cell_type": "code",
      "metadata": {
        "id": "tVApLYxltI4P"
      },
      "source": [
        "def is_square(a):\n",
        "  # Your code goes here\n",
        "  if len(a.shape) == 1:\n",
        "    return False\n",
        "  if len(a.shape) == 2:\n",
        "    return a.shape[0] == a.shape[1] # Feel free to change / remove this line\n",
        "  return False"
      ],
      "execution_count": 24,
      "outputs": []
    },
    {
      "cell_type": "code",
      "metadata": {
        "id": "JqE3SS-OtQhL",
        "colab": {
          "base_uri": "https://localhost:8080/"
        },
        "outputId": "4229cf06-57ea-42a3-d366-840285d56c03"
      },
      "source": [
        "a = np.arange(16)\n",
        "print(a.shape)\n",
        "print(a)\n",
        "print(is_square(a))\n",
        "b = a.reshape(2,8)\n",
        "print(b)\n",
        "print(is_square(b))\n",
        "c = a.reshape(4,4,1)\n",
        "print(c)\n",
        "print(is_square(c))\n",
        "d = a.reshape(4,4)\n",
        "print(d)\n",
        "print(is_square(d))"
      ],
      "execution_count": 25,
      "outputs": [
        {
          "output_type": "stream",
          "name": "stdout",
          "text": [
            "(16,)\n",
            "[ 0  1  2  3  4  5  6  7  8  9 10 11 12 13 14 15]\n",
            "False\n",
            "[[ 0  1  2  3  4  5  6  7]\n",
            " [ 8  9 10 11 12 13 14 15]]\n",
            "False\n",
            "[[[ 0]\n",
            "  [ 1]\n",
            "  [ 2]\n",
            "  [ 3]]\n",
            "\n",
            " [[ 4]\n",
            "  [ 5]\n",
            "  [ 6]\n",
            "  [ 7]]\n",
            "\n",
            " [[ 8]\n",
            "  [ 9]\n",
            "  [10]\n",
            "  [11]]\n",
            "\n",
            " [[12]\n",
            "  [13]\n",
            "  [14]\n",
            "  [15]]]\n",
            "False\n",
            "[[ 0  1  2  3]\n",
            " [ 4  5  6  7]\n",
            " [ 8  9 10 11]\n",
            " [12 13 14 15]]\n",
            "True\n"
          ]
        }
      ]
    },
    {
      "cell_type": "markdown",
      "metadata": {
        "id": "L8xyeA74rPkb"
      },
      "source": [
        "Write the function replace_max(a,m) that replace the maximum element in a by m. If the maximum occurs multiple times, replace only the first occurrence."
      ]
    },
    {
      "cell_type": "code",
      "metadata": {
        "id": "q83nd1a9rcq_"
      },
      "source": [
        "def  replace_max(a,m):\n",
        "  # Your code goes here\n",
        "  a[np.argmax(a)] = m\n",
        "  return # Feel free to change / remove this line"
      ],
      "execution_count": 30,
      "outputs": []
    },
    {
      "cell_type": "code",
      "metadata": {
        "id": "VYxFfl-Prj9B",
        "colab": {
          "base_uri": "https://localhost:8080/"
        },
        "outputId": "c1cf612b-d718-4d28-ddda-10ace8404e97"
      },
      "source": [
        "a = np.array([20, 90, 80, 70, 40,  0, 50, 60, 30, 10])\n",
        "print(a)\n",
        "replace_max(a,-1)\n",
        "print(a)"
      ],
      "execution_count": 32,
      "outputs": [
        {
          "output_type": "stream",
          "name": "stdout",
          "text": [
            "[20 90 80 70 40  0 50 60 30 10]\n",
            "[20 -1 80 70 40  0 50 60 30 10]\n"
          ]
        }
      ]
    },
    {
      "cell_type": "markdown",
      "metadata": {
        "id": "JSZ_awmar8eJ"
      },
      "source": [
        "Write the function diagonal(a) that receives a square array a and returns a 1D array containing the elements in the diagonal of a (that is [a[0,0], a[1,1], ...)."
      ]
    },
    {
      "cell_type": "code",
      "metadata": {
        "id": "IR9DbmFusKwa"
      },
      "source": [
        "def diagonal(a):\n",
        "  # Your code goes here\n",
        "  #Note you can do: a.diagonal()\n",
        "  b = np.zeros(len(a), dtype = np.int16)\n",
        "  for i in range(len(a)):\n",
        "    b[i] = a[i,i] \n",
        "  return b# Feel free to change / remove this line"
      ],
      "execution_count": 42,
      "outputs": []
    },
    {
      "cell_type": "code",
      "metadata": {
        "id": "sqeyNxuXsf46",
        "colab": {
          "base_uri": "https://localhost:8080/"
        },
        "outputId": "27cc0d09-d4c7-49bc-bf05-6e6d82886f47"
      },
      "source": [
        "a = np.array([[10, 70, 40], [ 0, 80, 60], [50, 30, 20]])\n",
        "print(a.diagonal())\n",
        "print(len(a))\n",
        "print(diagonal(a))"
      ],
      "execution_count": 43,
      "outputs": [
        {
          "output_type": "stream",
          "name": "stdout",
          "text": [
            "[10 80 20]\n",
            "3\n",
            "[10 80 20]\n"
          ]
        }
      ]
    },
    {
      "cell_type": "markdown",
      "source": [
        "## Submission Instructions\n",
        "\n",
        "1. File > Download .ipynb\n",
        "2. Go to Blackboard, find the submission page, and upload the .ipynb file you just downloaded."
      ],
      "metadata": {
        "id": "hdCpHyr7kZBe"
      }
    }
  ]
}
