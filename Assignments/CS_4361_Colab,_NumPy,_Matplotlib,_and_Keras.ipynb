{
  "nbformat": 4,
  "nbformat_minor": 0,
  "metadata": {
    "colab": {
      "name": "Copy of [Spring 2022] CS 4361 / 5361 - Colab, NumPy, Matplotlib, and Keras ",
      "private_outputs": true,
      "provenance": [],
      "collapsed_sections": [
        "uWg5FKJWic6H"
      ]
    },
    "kernelspec": {
      "name": "python3",
      "display_name": "Python 3"
    },
    "language_info": {
      "name": "python"
    }
  },
  "cells": [
    {
      "cell_type": "markdown",
      "source": [
        "## **Before you start**\n",
        "\n",
        "Make a copy of this Colab by clicking on File > Save a Copy in Drive\n",
        "\n",
        "After making a copy, add your student id, last name, and first name to the title."
      ],
      "metadata": {
        "id": "8zyM9gyPE6_N"
      }
    },
    {
      "cell_type": "code",
      "source": [
        "student_name = \"Salvador Robles Herrera\"\n",
        "student_id = \"80683116\""
      ],
      "metadata": {
        "id": "_lw8M9OeE9w5"
      },
      "execution_count": null,
      "outputs": []
    },
    {
      "cell_type": "markdown",
      "metadata": {
        "id": "uWg5FKJWic6H"
      },
      "source": [
        "#### Copyright 2021 Google LLC.\n",
        "\n",
        "SPDX-License-Identifier: Apache-2.0"
      ]
    },
    {
      "cell_type": "code",
      "metadata": {
        "id": "tG19EWnEiVUn"
      },
      "source": [
        "#@title\n",
        "# Licensed under the Apache License, Version 2.0 (the \"License\");\n",
        "# you may not use this file except in compliance with the License.\n",
        "# You may obtain a copy of the License at\n",
        "#\n",
        "# https://www.apache.org/licenses/LICENSE-2.0\n",
        "#\n",
        "# Unless required by applicable law or agreed to in writing, software\n",
        "# distributed under the License is distributed on an \"AS IS\" BASIS,\n",
        "# WITHOUT WARRANTIES OR CONDITIONS OF ANY KIND, either express or implied.\n",
        "# See the License for the specific language governing permissions and\n",
        "# limitations under the License."
      ],
      "execution_count": null,
      "outputs": []
    },
    {
      "cell_type": "markdown",
      "metadata": {
        "id": "yfHnUrrxivlx"
      },
      "source": [
        "# Colab Setup\n",
        "\n",
        "This assignment gives a brief introduction to Colab and some of the libraries we'll use in the Machine Learning course. You won't need to write any code, but will go through the motions of submitting your copy of the colab to avoid any future confusion."
      ]
    },
    {
      "cell_type": "markdown",
      "metadata": {
        "id": "M9NRkYX1lRZH"
      },
      "source": [
        "## Overview"
      ]
    },
    {
      "cell_type": "markdown",
      "metadata": {
        "id": "QcCbxSi84ozv"
      },
      "source": [
        "### Learning Objectives\n",
        "* Use Colab to write and execute python code\n",
        "* Make sure you can load some of the relevant libraries\n",
        "* Submit your copy of a Colab for grading"
      ]
    },
    {
      "cell_type": "markdown",
      "metadata": {
        "id": "w21iC01K4qgy"
      },
      "source": [
        "### Grading\n",
        "This assignment has just 1 exercise. But to get full credit, you must follow the submission instructions accurately!"
      ]
    },
    {
      "cell_type": "markdown",
      "metadata": {
        "id": "Oc_pgfbumQV7"
      },
      "source": [
        "## Preparing Your Personal Copy\n",
        "\n",
        "Colab is like a Google Document in that it's hosted in Google Drive and can be shared among many people for editing, commenting, or viewing. As a result, the initial version you're looking at is shared among all your classmates.\n",
        "\n"
      ]
    },
    {
      "cell_type": "markdown",
      "metadata": {
        "id": "iVhYJkaXoEbV"
      },
      "source": [
        "## Using Colab\n",
        "\n",
        "A Colab is a list of *cells*. Each cell is either a text cell (like this one) or a code cell (like the one below). To run code cells, you must be connected to a runtime server. Click *Connect* in the toolbar (top-right). Then, to run the cell below:\n",
        "* Click the **Play icon** in the left gutter of the cell\n",
        "* Type **Cmd/Ctrl+Enter** to run the cell in place\n",
        "* Type **Shift+Enter** to run the cell and move focus to the next cell (adding one if none exists)\n",
        "\n",
        "Check out more keyboard shortcuts in **Tools->Keyboard shortcuts**."
      ]
    },
    {
      "cell_type": "code",
      "metadata": {
        "id": "Y6MzJPOCPMl1"
      },
      "source": [
        "# Print Hello World.\n",
        "print(\"Hello World\")\n",
        "\n",
        "# Do some basic computation.\n",
        "x = 5\n",
        "y = x + 2\n",
        "print(y)\n",
        "\n",
        "# Define a Python function.\n",
        "def add_two(x):\n",
        "  return x+2\n",
        "print(add_two(20))"
      ],
      "execution_count": null,
      "outputs": []
    },
    {
      "cell_type": "markdown",
      "metadata": {
        "id": "SEdrm1KSEYyq"
      },
      "source": [
        "### Warning: Global Variables!\n",
        "\n",
        "In Colab, all the variables are global: once created, they are accessible from any code cell. However, you should make sure that your whole Colab executes properly from top to bottom. It's a good idea to use **Runtime -> Restart runtime** and then **Runtime -> Run all** to make sure everything works as intended, especially before you submit."
      ]
    },
    {
      "cell_type": "markdown",
      "metadata": {
        "id": "sA1JF3kjQute"
      },
      "source": [
        "# Brief Tour of Python Libraries\n",
        "\n",
        "Here, we'll briefly introduce the most important libraries used in this course."
      ]
    },
    {
      "cell_type": "markdown",
      "metadata": {
        "id": "cnX_B6_ARRD0"
      },
      "source": [
        "## Numpy\n",
        "\n",
        "Numpy is a scientific computing library with lots of tools, but at its core is the idea of an n-dimensional array. We will mostly use numpy to create and manipulate arrays. Note that a 1-D array is called a *vector*, a 2-D array is called a *matrix*, and n-D arrays are sometimes referred to as *tensors* (thus, *TensorFlow*, but more on that later).\n",
        "\n",
        "Try running the code below and make sure you understand what it's doing. See the [Numpy Quickstart Guide](https://numpy.org/doc/stable/user/quickstart.html) for more."
      ]
    },
    {
      "cell_type": "code",
      "metadata": {
        "id": "PHgsV2P_VeV6"
      },
      "source": [
        "import numpy as np\n",
        "\n",
        "# Create a new 1-D array with 15 integers.\n",
        "x = np.arange(0,15)\n",
        "print('Here is x:\\n', x)\n",
        "print('Shape of x:', x.shape)\n",
        "\n",
        "# Resize the array to 3 rows by 5 columns (3x5).\n",
        "y = x.reshape(3,5)\n",
        "print('Here is y:\\n', y)\n",
        "print('Shape of y:', y.shape)\n",
        "\n",
        "# Use array slicing to get a single row or a single column.\n",
        "print('Here is the first row of y:\\n', y[0,:])\n",
        "print('Here is the first column of y:\\n', y[:,0])"
      ],
      "execution_count": null,
      "outputs": []
    },
    {
      "cell_type": "markdown",
      "metadata": {
        "id": "hB7iMrurYdJN"
      },
      "source": [
        "## Matplotlib\n",
        "\n",
        "This is the plotting library we'll use for all kinds of data visualization. It's both powerful and confusing. Honestly, I never remember how to do anything with it, and rely on Google to find documentation (or better yet, examples) of what I want.\n",
        "\n",
        "In addition, the Seaborn library often makes the standard matplotlib output much nicer, and includes some fancy visualization tools that we'll use from time to time.\n",
        "\n",
        "Finally, you should familiarize yourself with reading the documentation pages for library functions like [np.random.uniform](https://numpy.org/doc/stable/reference/random/generated/numpy.random.uniform.html) and [matplotlib.pyplot.plot](https://matplotlib.org/stable/api/_as_gen/matplotlib.pyplot.plot.html)."
      ]
    },
    {
      "cell_type": "code",
      "metadata": {
        "id": "ARwA4uAMWzHS"
      },
      "source": [
        "from matplotlib import pyplot as plt\n",
        "import seaborn as sns  # for nicer plots\n",
        "sns.set(style=\"darkgrid\")  # default style\n",
        "\n",
        "# Generate 100 x values.\n",
        "X = np.arange(0, 100)\n",
        "\n",
        "# Random values in [-10,10] with the same shape as X.\n",
        "noise = np.random.uniform(-10, 10, len(X))\n",
        "\n",
        "# Generate 100 y values with a linear relationship to x (plus the noise).\n",
        "Y = 0.25 * X + 5.0 + noise\n",
        "\n",
        "# Use the plot function to create a scatter plot.\n",
        "plt.plot(X, Y,\n",
        "         marker='.', linestyle='', color='blue', markersize=6)\n",
        "\n",
        "# Add axis labels and a title.\n",
        "plt.xlabel('X value')\n",
        "plt.ylabel('Y value')\n",
        "plt.title(\"Scatter of X vs Y\")\n",
        "plt.show()"
      ],
      "execution_count": null,
      "outputs": []
    },
    {
      "cell_type": "markdown",
      "metadata": {
        "id": "JFQoX3kU42R-"
      },
      "source": [
        "## Pandas\n",
        "\n",
        "Pandas is widely used for handling ML datasets and is well integrated with Numpy, Matplotlib, and TensorFlow. A Pandas *dataframe* object is a wrapper around a table (like a numpy array) with labeled columns. It's easiest to look at an example."
      ]
    },
    {
      "cell_type": "code",
      "metadata": {
        "id": "qhNtoEXKzSnB"
      },
      "source": [
        "import pandas as pd\n",
        "\n",
        "# Load the 1990s California Housing dataset as a Pandas dataframe.\n",
        "# For details, see https://developers.google.com/machine-learning/crash-course/california-housing-data-description.\n",
        "# Note that each example (row) in this dataset describes a neighborhood.\n",
        "ca_housing_df = pd.read_csv('https://download.mlcc.google.com/mledu-datasets/california_housing_train.csv')\n",
        "\n",
        "# Show the first few rows.\n",
        "# The display function is is not standard Python, but is useful in Colab to\n",
        "# print some objects that have their own rendering code (like a dataframe).\n",
        "# You can try replacing display() with print() to see the difference.\n",
        "display(ca_housing_df.head())\n",
        "\n",
        "# Show summary statistics for the data.\n",
        "display(ca_housing_df.describe())\n",
        "\n",
        "# Plot a histogram of the median house values.\n",
        "plt.hist(ca_housing_df['median_house_value'], bins=50)\n",
        "plt.title('CA Housing Data (1990s) Median House Value')\n",
        "plt.show()"
      ],
      "execution_count": null,
      "outputs": []
    },
    {
      "cell_type": "markdown",
      "metadata": {
        "id": "YQR5Op0X8cvG"
      },
      "source": [
        "## TensorFlow and Keras\n",
        "\n",
        "Finally, we'll be using TensorFlow to train ML models. TensorFlow is a large and complex library, including many constantly evolving functions and APIs (Keras is one set of convenient APIs inside TensorFlow). This means you'll want to learn how to use the documentation and the high-level ideas that guide its design.\n",
        "\n",
        "The trickiest thing to understand about TensorFlow is primary way in which it differs from standard programming. In a typical program, each line of code is executed sequentially. In TensorFlow, by contrast, you first define a computation graph. The graph specifies how data flows from input to output. However, no computation actually happens until data is passed into the graph and execution begins.\n",
        "\n",
        "Here's a simple example. Don't worry about understanding the ML details. In a few weeks, you'll understand everything in the code below."
      ]
    },
    {
      "cell_type": "code",
      "metadata": {
        "id": "KPoiK0sr_Rj1"
      },
      "source": [
        "import tensorflow as tf\n",
        "from tensorflow import keras\n",
        "\n",
        "# Column names to use as input features.\n",
        "features = ['housing_median_age', 'total_rooms', 'total_bedrooms',\n",
        "            'population', 'households', 'median_income']\n",
        "\n",
        "# Apply log transforms to input features and output values.\n",
        "X = np.log(ca_housing_df[features])\n",
        "Y = np.log(ca_housing_df['median_house_value'])\n",
        "\n",
        "def build_model(num_features):\n",
        "  \"\"\"Return a simple linear regression model using the Keras Sequential API.\"\"\"\n",
        "  # Clear session and set a random seed for consistent behavior.\n",
        "  tf.keras.backend.clear_session()\n",
        "  tf.random.set_seed(0)\n",
        "\n",
        "  # Use Keras Sequential API to build a linear regression model.\n",
        "  model = keras.Sequential()\n",
        "  model.add(keras.layers.Dense(\n",
        "      input_shape=[num_features], # each input has num_features features\n",
        "      units=1,                    # there is a single output\n",
        "      use_bias=True               # include a learned bias parameter\n",
        "      ))\n",
        "  \n",
        "  # Use mean absolute error as our loss and the Adam optimizer.\n",
        "  model.compile(loss='mae', optimizer='Adam')\n",
        "  return model\n",
        "\n",
        "# Build a model and train it. Hold out 10% of data for validation.\n",
        "model = build_model(num_features=len(features))\n",
        "model.fit(x=X, y=Y,\n",
        "          validation_split=0.1, batch_size=16, epochs=5)\n",
        "\n",
        "# Use the model to predict the training labels.\n",
        "Y_pred = model.predict(x=X).flatten()\n",
        "\n",
        "# Compute training data errors by converting back from the log scale.\n",
        "error = np.exp(Y) - np.exp(Y_pred)\n",
        "mean_error = error.mean()\n",
        "\n",
        "# Plot an error histogram.\n",
        "plt.hist(error, bins=20, range=(-1e6, 1e6), alpha=0.6)\n",
        "\n",
        "# Also show the average error explicitly in the same plot.\n",
        "plt.axvline(mean_error, color='k', linestyle='dashed', linewidth=1)\n",
        "min_ylim, max_ylim = plt.ylim()\n",
        "plt.text(mean_error, max_ylim*0.9, 'Mean: {:.2f}'.format(mean_error))\n",
        "plt.show()"
      ],
      "execution_count": null,
      "outputs": []
    },
    {
      "cell_type": "markdown",
      "metadata": {
        "id": "MviuWVAu-S-T"
      },
      "source": [
        "## Exercise 1: Plot histograms\n",
        "After reading over the code above, plot a [histogram](https://en.wikipedia.org/wiki/Histogram) of the population values in the California Housing dataset, using 100 bins. Also plot a second histogram of the log of the population values."
      ]
    },
    {
      "cell_type": "markdown",
      "metadata": {
        "id": "1RShD7FG-d1E"
      },
      "source": [
        "### Student Solution"
      ]
    },
    {
      "cell_type": "code",
      "metadata": {
        "id": "Te86PLFF-5JX"
      },
      "source": [
        "# YOUR CODE HERE\n",
        "import pandas as pd\n",
        "import numpy as np\n",
        "\n",
        "print(\"First Histogram\\n\")\n",
        "#Loads csv to Pandas framework\n",
        "ca_housing_df = pd.read_csv('https://download.mlcc.google.com/mledu-datasets/california_housing_train.csv')\n",
        "#Displays some rows\n",
        "display(ca_housing_df.head())\n",
        "#Displays summary statistics\n",
        "display(ca_housing_df.describe())\n",
        "#Creates a histogram with 100 bins\n",
        "plt.hist(ca_housing_df['population'], bins=100)\n",
        "#Adds title to histogram\n",
        "plt.title('CA Housing Data (1990s) Population Values')\n",
        "#Show first histogram\n",
        "plt.show()\n",
        "\n",
        "# Apply log\n",
        "print(\"\\nSecond Histogram\\n\")\n",
        "#Gets log of the population\n",
        "logs = np.log(ca_housing_df['population'])\n",
        "#Creates another histogram with 100 bins as well\n",
        "plt.hist(logs, bins = 100)\n",
        "#Shows Second histogram\n",
        "plt.show()\n"
      ],
      "execution_count": null,
      "outputs": []
    },
    {
      "cell_type": "markdown",
      "metadata": {
        "id": "bMjy2FvJPW5y"
      },
      "source": [
        "## Submission Instructions\n",
        "\n",
        "1. File > Download .ipynb\n",
        "2. Go to Blackboard, find the submission page, and upload the .ipynb file you just downloaded."
      ]
    }
  ]
}
