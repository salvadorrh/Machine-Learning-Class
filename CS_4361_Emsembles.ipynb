{
  "nbformat": 4,
  "nbformat_minor": 0,
  "metadata": {
    "colab": {
      "name": "Copy of [Spring 2022] CS 4361 / 5361 - Emsembles",
      "provenance": [],
      "collapsed_sections": [],
      "machine_shape": "hm"
    },
    "kernelspec": {
      "name": "python3",
      "display_name": "Python 3"
    },
    "language_info": {
      "name": "python"
    },
    "accelerator": "GPU"
  },
  "cells": [
    {
      "cell_type": "markdown",
      "source": [
        "# [Spring 2022] CS 4361 / 5361 - Ensembles"
      ],
      "metadata": {
        "id": "yTCyCcbWyHl8"
      }
    },
    {
      "cell_type": "markdown",
      "source": [
        "## **Before you start**\n",
        "\n",
        "Make a copy of this Colab by clicking on File > Save a Copy in Drive\n",
        "\n",
        "After making a copy, add your student id, last name, and first name to the title.\n",
        "\n",
        "Credit: This notebook was originally created by Dr. Olac Fuentes. It was adapted by Dr. Diego Aguirre on 02/28/2022\n"
      ],
      "metadata": {
        "id": "YKZcy51UyUpS"
      }
    },
    {
      "cell_type": "code",
      "source": [
        "student_name = \"Salvador Robles Herrera\"\n",
        "student_id = \"80683116\""
      ],
      "metadata": {
        "id": "Ht3quTppya6O"
      },
      "execution_count": 1,
      "outputs": []
    },
    {
      "cell_type": "markdown",
      "source": [
        "In this assignment, we will be predicting the running times of GPU operations under various parameter settings using ensembles of trees.\n",
        "\n",
        "\n",
        "Let's load the libraries we will be using."
      ],
      "metadata": {
        "id": "m6CHEZVYtYNH"
      }
    },
    {
      "cell_type": "code",
      "source": [
        "import numpy as np\n",
        "import matplotlib.pyplot as plt\n",
        "import pandas as pd\n",
        "import time\n",
        "from sklearn.metrics import accuracy_score, confusion_matrix,mean_squared_error,mean_absolute_error\n",
        "from sklearn.neighbors import KNeighborsRegressor\n",
        "from sklearn.tree import DecisionTreeRegressor\n",
        "from sklearn.ensemble import RandomForestRegressor\n",
        "from sklearn.model_selection import train_test_split\n",
        "from sklearn.preprocessing import StandardScaler\n",
        "from sklearn import tree\n",
        "from google.colab import files"
      ],
      "metadata": {
        "id": "8OklO36Gtay2"
      },
      "execution_count": 6,
      "outputs": []
    },
    {
      "cell_type": "markdown",
      "source": [
        "Let's upload the dataset we will be working with (you'll find the file on Blackboard)."
      ],
      "metadata": {
        "id": "5DHrlQ91tkx4"
      }
    },
    {
      "cell_type": "code",
      "source": [
        "from google.colab import files\n",
        "import os\n",
        "\n",
        "if not os.path.isfile(\"gpu_running_time.csv\"):\n",
        "  files.upload() # If this doesn't work, try using Google Chrome"
      ],
      "metadata": {
        "id": "A8g-vNjLti5v"
      },
      "execution_count": 7,
      "outputs": []
    },
    {
      "cell_type": "code",
      "source": [
        "df = pd.read_csv('gpu_running_time.csv')\n",
        "df"
      ],
      "metadata": {
        "colab": {
          "base_uri": "https://localhost:8080/",
          "height": 505
        },
        "id": "aubrkepItxCL",
        "outputId": "b69cea63-8ad8-4a38-e545-8476635e6de6"
      },
      "execution_count": 8,
      "outputs": [
        {
          "output_type": "execute_result",
          "data": {
            "text/html": [
              "\n",
              "  <div id=\"df-cbf04871-4346-4d70-b631-b2e52a44ef21\">\n",
              "    <div class=\"colab-df-container\">\n",
              "      <div>\n",
              "<style scoped>\n",
              "    .dataframe tbody tr th:only-of-type {\n",
              "        vertical-align: middle;\n",
              "    }\n",
              "\n",
              "    .dataframe tbody tr th {\n",
              "        vertical-align: top;\n",
              "    }\n",
              "\n",
              "    .dataframe thead th {\n",
              "        text-align: right;\n",
              "    }\n",
              "</style>\n",
              "<table border=\"1\" class=\"dataframe\">\n",
              "  <thead>\n",
              "    <tr style=\"text-align: right;\">\n",
              "      <th></th>\n",
              "      <th>MWG</th>\n",
              "      <th>NWG</th>\n",
              "      <th>KWG</th>\n",
              "      <th>MDIMC</th>\n",
              "      <th>NDIMC</th>\n",
              "      <th>MDIMA</th>\n",
              "      <th>NDIMB</th>\n",
              "      <th>KWI</th>\n",
              "      <th>VWM</th>\n",
              "      <th>VWN</th>\n",
              "      <th>STRM</th>\n",
              "      <th>STRN</th>\n",
              "      <th>SA</th>\n",
              "      <th>SB</th>\n",
              "      <th>Run1 (ms)</th>\n",
              "      <th>Run2 (ms)</th>\n",
              "      <th>Run3 (ms)</th>\n",
              "      <th>Run4 (ms)</th>\n",
              "    </tr>\n",
              "  </thead>\n",
              "  <tbody>\n",
              "    <tr>\n",
              "      <th>0</th>\n",
              "      <td>128</td>\n",
              "      <td>128</td>\n",
              "      <td>16</td>\n",
              "      <td>16</td>\n",
              "      <td>32</td>\n",
              "      <td>32</td>\n",
              "      <td>32</td>\n",
              "      <td>8</td>\n",
              "      <td>2</td>\n",
              "      <td>4</td>\n",
              "      <td>1</td>\n",
              "      <td>0</td>\n",
              "      <td>1</td>\n",
              "      <td>1</td>\n",
              "      <td>13.29</td>\n",
              "      <td>13.25</td>\n",
              "      <td>13.36</td>\n",
              "      <td>13.37</td>\n",
              "    </tr>\n",
              "    <tr>\n",
              "      <th>1</th>\n",
              "      <td>128</td>\n",
              "      <td>128</td>\n",
              "      <td>16</td>\n",
              "      <td>16</td>\n",
              "      <td>32</td>\n",
              "      <td>32</td>\n",
              "      <td>32</td>\n",
              "      <td>8</td>\n",
              "      <td>2</td>\n",
              "      <td>4</td>\n",
              "      <td>1</td>\n",
              "      <td>1</td>\n",
              "      <td>1</td>\n",
              "      <td>1</td>\n",
              "      <td>13.29</td>\n",
              "      <td>13.36</td>\n",
              "      <td>13.38</td>\n",
              "      <td>13.65</td>\n",
              "    </tr>\n",
              "    <tr>\n",
              "      <th>2</th>\n",
              "      <td>128</td>\n",
              "      <td>128</td>\n",
              "      <td>16</td>\n",
              "      <td>16</td>\n",
              "      <td>32</td>\n",
              "      <td>32</td>\n",
              "      <td>32</td>\n",
              "      <td>2</td>\n",
              "      <td>2</td>\n",
              "      <td>2</td>\n",
              "      <td>1</td>\n",
              "      <td>1</td>\n",
              "      <td>1</td>\n",
              "      <td>1</td>\n",
              "      <td>13.78</td>\n",
              "      <td>13.76</td>\n",
              "      <td>13.73</td>\n",
              "      <td>13.69</td>\n",
              "    </tr>\n",
              "    <tr>\n",
              "      <th>3</th>\n",
              "      <td>128</td>\n",
              "      <td>128</td>\n",
              "      <td>16</td>\n",
              "      <td>16</td>\n",
              "      <td>32</td>\n",
              "      <td>32</td>\n",
              "      <td>32</td>\n",
              "      <td>8</td>\n",
              "      <td>2</td>\n",
              "      <td>2</td>\n",
              "      <td>1</td>\n",
              "      <td>1</td>\n",
              "      <td>1</td>\n",
              "      <td>1</td>\n",
              "      <td>14.34</td>\n",
              "      <td>14.44</td>\n",
              "      <td>14.43</td>\n",
              "      <td>14.58</td>\n",
              "    </tr>\n",
              "    <tr>\n",
              "      <th>4</th>\n",
              "      <td>128</td>\n",
              "      <td>64</td>\n",
              "      <td>16</td>\n",
              "      <td>16</td>\n",
              "      <td>16</td>\n",
              "      <td>16</td>\n",
              "      <td>32</td>\n",
              "      <td>2</td>\n",
              "      <td>2</td>\n",
              "      <td>2</td>\n",
              "      <td>1</td>\n",
              "      <td>1</td>\n",
              "      <td>1</td>\n",
              "      <td>1</td>\n",
              "      <td>14.61</td>\n",
              "      <td>14.69</td>\n",
              "      <td>14.80</td>\n",
              "      <td>14.78</td>\n",
              "    </tr>\n",
              "    <tr>\n",
              "      <th>...</th>\n",
              "      <td>...</td>\n",
              "      <td>...</td>\n",
              "      <td>...</td>\n",
              "      <td>...</td>\n",
              "      <td>...</td>\n",
              "      <td>...</td>\n",
              "      <td>...</td>\n",
              "      <td>...</td>\n",
              "      <td>...</td>\n",
              "      <td>...</td>\n",
              "      <td>...</td>\n",
              "      <td>...</td>\n",
              "      <td>...</td>\n",
              "      <td>...</td>\n",
              "      <td>...</td>\n",
              "      <td>...</td>\n",
              "      <td>...</td>\n",
              "      <td>...</td>\n",
              "    </tr>\n",
              "    <tr>\n",
              "      <th>241595</th>\n",
              "      <td>128</td>\n",
              "      <td>128</td>\n",
              "      <td>32</td>\n",
              "      <td>8</td>\n",
              "      <td>8</td>\n",
              "      <td>16</td>\n",
              "      <td>32</td>\n",
              "      <td>8</td>\n",
              "      <td>2</td>\n",
              "      <td>2</td>\n",
              "      <td>0</td>\n",
              "      <td>0</td>\n",
              "      <td>1</td>\n",
              "      <td>1</td>\n",
              "      <td>3322.83</td>\n",
              "      <td>3313.44</td>\n",
              "      <td>3359.22</td>\n",
              "      <td>3342.30</td>\n",
              "    </tr>\n",
              "    <tr>\n",
              "      <th>241596</th>\n",
              "      <td>128</td>\n",
              "      <td>128</td>\n",
              "      <td>32</td>\n",
              "      <td>8</td>\n",
              "      <td>8</td>\n",
              "      <td>32</td>\n",
              "      <td>8</td>\n",
              "      <td>8</td>\n",
              "      <td>2</td>\n",
              "      <td>2</td>\n",
              "      <td>0</td>\n",
              "      <td>0</td>\n",
              "      <td>1</td>\n",
              "      <td>1</td>\n",
              "      <td>3324.15</td>\n",
              "      <td>3324.11</td>\n",
              "      <td>3332.74</td>\n",
              "      <td>3300.80</td>\n",
              "    </tr>\n",
              "    <tr>\n",
              "      <th>241597</th>\n",
              "      <td>128</td>\n",
              "      <td>128</td>\n",
              "      <td>32</td>\n",
              "      <td>8</td>\n",
              "      <td>8</td>\n",
              "      <td>16</td>\n",
              "      <td>16</td>\n",
              "      <td>8</td>\n",
              "      <td>2</td>\n",
              "      <td>2</td>\n",
              "      <td>0</td>\n",
              "      <td>0</td>\n",
              "      <td>1</td>\n",
              "      <td>1</td>\n",
              "      <td>3325.87</td>\n",
              "      <td>3340.98</td>\n",
              "      <td>3333.41</td>\n",
              "      <td>3341.08</td>\n",
              "    </tr>\n",
              "    <tr>\n",
              "      <th>241598</th>\n",
              "      <td>128</td>\n",
              "      <td>128</td>\n",
              "      <td>32</td>\n",
              "      <td>8</td>\n",
              "      <td>8</td>\n",
              "      <td>32</td>\n",
              "      <td>16</td>\n",
              "      <td>8</td>\n",
              "      <td>2</td>\n",
              "      <td>2</td>\n",
              "      <td>0</td>\n",
              "      <td>0</td>\n",
              "      <td>1</td>\n",
              "      <td>1</td>\n",
              "      <td>3333.92</td>\n",
              "      <td>3335.08</td>\n",
              "      <td>3354.68</td>\n",
              "      <td>3317.04</td>\n",
              "    </tr>\n",
              "    <tr>\n",
              "      <th>241599</th>\n",
              "      <td>128</td>\n",
              "      <td>128</td>\n",
              "      <td>32</td>\n",
              "      <td>8</td>\n",
              "      <td>8</td>\n",
              "      <td>16</td>\n",
              "      <td>8</td>\n",
              "      <td>8</td>\n",
              "      <td>2</td>\n",
              "      <td>2</td>\n",
              "      <td>0</td>\n",
              "      <td>0</td>\n",
              "      <td>1</td>\n",
              "      <td>1</td>\n",
              "      <td>3339.63</td>\n",
              "      <td>3344.72</td>\n",
              "      <td>3319.97</td>\n",
              "      <td>3361.71</td>\n",
              "    </tr>\n",
              "  </tbody>\n",
              "</table>\n",
              "<p>241600 rows × 18 columns</p>\n",
              "</div>\n",
              "      <button class=\"colab-df-convert\" onclick=\"convertToInteractive('df-cbf04871-4346-4d70-b631-b2e52a44ef21')\"\n",
              "              title=\"Convert this dataframe to an interactive table.\"\n",
              "              style=\"display:none;\">\n",
              "        \n",
              "  <svg xmlns=\"http://www.w3.org/2000/svg\" height=\"24px\"viewBox=\"0 0 24 24\"\n",
              "       width=\"24px\">\n",
              "    <path d=\"M0 0h24v24H0V0z\" fill=\"none\"/>\n",
              "    <path d=\"M18.56 5.44l.94 2.06.94-2.06 2.06-.94-2.06-.94-.94-2.06-.94 2.06-2.06.94zm-11 1L8.5 8.5l.94-2.06 2.06-.94-2.06-.94L8.5 2.5l-.94 2.06-2.06.94zm10 10l.94 2.06.94-2.06 2.06-.94-2.06-.94-.94-2.06-.94 2.06-2.06.94z\"/><path d=\"M17.41 7.96l-1.37-1.37c-.4-.4-.92-.59-1.43-.59-.52 0-1.04.2-1.43.59L10.3 9.45l-7.72 7.72c-.78.78-.78 2.05 0 2.83L4 21.41c.39.39.9.59 1.41.59.51 0 1.02-.2 1.41-.59l7.78-7.78 2.81-2.81c.8-.78.8-2.07 0-2.86zM5.41 20L4 18.59l7.72-7.72 1.47 1.35L5.41 20z\"/>\n",
              "  </svg>\n",
              "      </button>\n",
              "      \n",
              "  <style>\n",
              "    .colab-df-container {\n",
              "      display:flex;\n",
              "      flex-wrap:wrap;\n",
              "      gap: 12px;\n",
              "    }\n",
              "\n",
              "    .colab-df-convert {\n",
              "      background-color: #E8F0FE;\n",
              "      border: none;\n",
              "      border-radius: 50%;\n",
              "      cursor: pointer;\n",
              "      display: none;\n",
              "      fill: #1967D2;\n",
              "      height: 32px;\n",
              "      padding: 0 0 0 0;\n",
              "      width: 32px;\n",
              "    }\n",
              "\n",
              "    .colab-df-convert:hover {\n",
              "      background-color: #E2EBFA;\n",
              "      box-shadow: 0px 1px 2px rgba(60, 64, 67, 0.3), 0px 1px 3px 1px rgba(60, 64, 67, 0.15);\n",
              "      fill: #174EA6;\n",
              "    }\n",
              "\n",
              "    [theme=dark] .colab-df-convert {\n",
              "      background-color: #3B4455;\n",
              "      fill: #D2E3FC;\n",
              "    }\n",
              "\n",
              "    [theme=dark] .colab-df-convert:hover {\n",
              "      background-color: #434B5C;\n",
              "      box-shadow: 0px 1px 3px 1px rgba(0, 0, 0, 0.15);\n",
              "      filter: drop-shadow(0px 1px 2px rgba(0, 0, 0, 0.3));\n",
              "      fill: #FFFFFF;\n",
              "    }\n",
              "  </style>\n",
              "\n",
              "      <script>\n",
              "        const buttonEl =\n",
              "          document.querySelector('#df-cbf04871-4346-4d70-b631-b2e52a44ef21 button.colab-df-convert');\n",
              "        buttonEl.style.display =\n",
              "          google.colab.kernel.accessAllowed ? 'block' : 'none';\n",
              "\n",
              "        async function convertToInteractive(key) {\n",
              "          const element = document.querySelector('#df-cbf04871-4346-4d70-b631-b2e52a44ef21');\n",
              "          const dataTable =\n",
              "            await google.colab.kernel.invokeFunction('convertToInteractive',\n",
              "                                                     [key], {});\n",
              "          if (!dataTable) return;\n",
              "\n",
              "          const docLinkHtml = 'Like what you see? Visit the ' +\n",
              "            '<a target=\"_blank\" href=https://colab.research.google.com/notebooks/data_table.ipynb>data table notebook</a>'\n",
              "            + ' to learn more about interactive tables.';\n",
              "          element.innerHTML = '';\n",
              "          dataTable['output_type'] = 'display_data';\n",
              "          await google.colab.output.renderOutput(dataTable, element);\n",
              "          const docLink = document.createElement('div');\n",
              "          docLink.innerHTML = docLinkHtml;\n",
              "          element.appendChild(docLink);\n",
              "        }\n",
              "      </script>\n",
              "    </div>\n",
              "  </div>\n",
              "  "
            ],
            "text/plain": [
              "        MWG  NWG  KWG  MDIMC  NDIMC  MDIMA  NDIMB  KWI  VWM  VWN  STRM  STRN  \\\n",
              "0       128  128   16     16     32     32     32    8    2    4     1     0   \n",
              "1       128  128   16     16     32     32     32    8    2    4     1     1   \n",
              "2       128  128   16     16     32     32     32    2    2    2     1     1   \n",
              "3       128  128   16     16     32     32     32    8    2    2     1     1   \n",
              "4       128   64   16     16     16     16     32    2    2    2     1     1   \n",
              "...     ...  ...  ...    ...    ...    ...    ...  ...  ...  ...   ...   ...   \n",
              "241595  128  128   32      8      8     16     32    8    2    2     0     0   \n",
              "241596  128  128   32      8      8     32      8    8    2    2     0     0   \n",
              "241597  128  128   32      8      8     16     16    8    2    2     0     0   \n",
              "241598  128  128   32      8      8     32     16    8    2    2     0     0   \n",
              "241599  128  128   32      8      8     16      8    8    2    2     0     0   \n",
              "\n",
              "        SA  SB  Run1 (ms)  Run2 (ms)  Run3 (ms)  Run4 (ms)  \n",
              "0        1   1      13.29      13.25      13.36      13.37  \n",
              "1        1   1      13.29      13.36      13.38      13.65  \n",
              "2        1   1      13.78      13.76      13.73      13.69  \n",
              "3        1   1      14.34      14.44      14.43      14.58  \n",
              "4        1   1      14.61      14.69      14.80      14.78  \n",
              "...     ..  ..        ...        ...        ...        ...  \n",
              "241595   1   1    3322.83    3313.44    3359.22    3342.30  \n",
              "241596   1   1    3324.15    3324.11    3332.74    3300.80  \n",
              "241597   1   1    3325.87    3340.98    3333.41    3341.08  \n",
              "241598   1   1    3333.92    3335.08    3354.68    3317.04  \n",
              "241599   1   1    3339.63    3344.72    3319.97    3361.71  \n",
              "\n",
              "[241600 rows x 18 columns]"
            ]
          },
          "metadata": {},
          "execution_count": 8
        }
      ]
    },
    {
      "cell_type": "markdown",
      "source": [
        "We convert the dataframe to a numpy array and extract the features (X) and target (y). \n",
        "\n"
      ],
      "metadata": {
        "id": "odlFBKcUtyh2"
      }
    },
    {
      "cell_type": "code",
      "source": [
        "data = df.to_numpy()\n",
        "X = data[:,:15]\n",
        "print(X[:100])\n",
        "y = np.mean(data[:,15:],axis=1)\n",
        "print(y[:100])\n",
        "print('X shape', X.shape)\n",
        "print('y', y.shape)\n",
        "X_train, X_test, y_train, y_test = train_test_split(X, y, test_size=0.3, random_state=4361)"
      ],
      "metadata": {
        "id": "GbKSHnOTt0zE",
        "colab": {
          "base_uri": "https://localhost:8080/"
        },
        "outputId": "d2bff69a-cf27-481b-82a7-a2070b592298"
      },
      "execution_count": 9,
      "outputs": [
        {
          "output_type": "stream",
          "name": "stdout",
          "text": [
            "[[128.   128.    16.   ...   1.     1.    13.29]\n",
            " [128.   128.    16.   ...   1.     1.    13.29]\n",
            " [128.   128.    16.   ...   1.     1.    13.78]\n",
            " ...\n",
            " [ 64.    64.    16.   ...   1.     1.    16.25]\n",
            " [ 64.   128.    16.   ...   1.     1.    16.25]\n",
            " [128.   128.    32.   ...   1.     1.    16.26]]\n",
            "[13.32666667 13.46333333 13.72666667 14.48333333 14.75666667 14.62333333\n",
            " 14.86333333 14.86       15.03       14.98       14.99333333 14.98\n",
            " 15.19666667 15.25       15.68333333 15.51       15.39333333 15.46333333\n",
            " 15.47       15.39       15.44666667 15.41       15.48666667 15.42333333\n",
            " 15.40666667 15.55       15.53       15.45666667 15.43333333 15.18666667\n",
            " 15.36666667 15.42333333 15.4        15.54333333 15.38333333 15.57333333\n",
            " 15.68666667 15.65333333 15.60666667 15.73666667 15.65333333 15.83666667\n",
            " 15.83666667 15.96333333 15.90333333 15.80666667 15.88       15.99\n",
            " 15.90666667 15.91333333 15.86       15.96333333 15.9        15.94\n",
            " 15.91666667 15.95333333 15.93666667 15.94666667 15.97333333 16.05333333\n",
            " 16.         16.01       16.04333333 16.38666667 16.22       16.01\n",
            " 16.02333333 15.67333333 16.14       15.94       16.23666667 16.09333333\n",
            " 16.35666667 16.09       16.21       16.15333333 16.14333333 16.1\n",
            " 16.26666667 16.14       16.14666667 16.24333333 16.21       16.03666667\n",
            " 16.44333333 16.01333333 16.59       17.35666667 16.1        16.45666667\n",
            " 16.15333333 16.26666667 16.27       16.22       16.19666667 16.21666667\n",
            " 16.33666667 16.33666667 16.22666667 16.26333333]\n",
            "X shape (241600, 15)\n",
            "y (241600,)\n"
          ]
        }
      ]
    },
    {
      "cell_type": "markdown",
      "source": [
        "As a baseline, we evaluate the error when we use the mean y train as predicition for all examples in the test set. "
      ],
      "metadata": {
        "id": "LNcoyxmJt3A3"
      }
    },
    {
      "cell_type": "code",
      "source": [
        "pred = np.mean(y_train)+np.zeros_like(y_test)\n",
        "print(np.mean(y_train))\n",
        "print('Mean squared error = {:5.2f}'.format(mean_squared_error(pred,y_test)))\n",
        "print('Mean absolute error =  {:5.2f}'.format(mean_absolute_error(pred,y_test)))"
      ],
      "metadata": {
        "colab": {
          "base_uri": "https://localhost:8080/"
        },
        "id": "K0HD-Xsrt5Ac",
        "outputId": "6c2194d9-e991-4eea-eec4-75b53351e250"
      },
      "execution_count": 6,
      "outputs": [
        {
          "output_type": "stream",
          "name": "stdout",
          "text": [
            "217.9919387811416\n",
            "Mean squared error = 134935.89\n",
            "Mean absolute error =  216.03\n"
          ]
        }
      ]
    },
    {
      "cell_type": "markdown",
      "source": [
        "Now let's evaluate a decision tree regressor for this task. "
      ],
      "metadata": {
        "id": "igzagavvHuxl"
      }
    },
    {
      "cell_type": "code",
      "source": [
        "model = DecisionTreeRegressor()\n",
        "model.fit(X_train,y_train)\n",
        "pred = model.predict(X_test)\n",
        "\n",
        "print('Mean squared error = {:5.2f}'.format(mean_squared_error(pred,y_test)))\n",
        "print('Mean absolute error =  {:5.2f}'.format(mean_absolute_error(pred,y_test)))"
      ],
      "metadata": {
        "colab": {
          "base_uri": "https://localhost:8080/"
        },
        "id": "NGILsrwyH1Ud",
        "outputId": "1256e231-0f41-457b-d295-e0c97fdcc3cc"
      },
      "execution_count": 7,
      "outputs": [
        {
          "output_type": "stream",
          "name": "stdout",
          "text": [
            "Mean squared error =  9.09\n",
            "Mean absolute error =   1.05\n"
          ]
        }
      ]
    },
    {
      "cell_type": "markdown",
      "source": [
        "We'd expect a random forest to perform better than a single tree. Let's see if that is the case."
      ],
      "metadata": {
        "id": "wUhFGgenH3xO"
      }
    },
    {
      "cell_type": "code",
      "source": [
        "model = RandomForestRegressor()\n",
        "model.fit(X_train,y_train)\n",
        "pred = model.predict(X_test)\n",
        "print('Mean squared error = {:5.2f}'.format(mean_squared_error(pred,y_test)))\n",
        "print('Mean absolute error =  {:5.2f}'.format(mean_absolute_error(pred,y_test)))"
      ],
      "metadata": {
        "colab": {
          "base_uri": "https://localhost:8080/"
        },
        "id": "WCWr09IRH7xo",
        "outputId": "bb8b526a-fc71-40c2-b7bc-af942af30659"
      },
      "execution_count": 8,
      "outputs": [
        {
          "output_type": "stream",
          "name": "stdout",
          "text": [
            "Mean squared error =  4.86\n",
            "Mean absolute error =   0.80\n"
          ]
        }
      ]
    },
    {
      "cell_type": "markdown",
      "source": [
        "k-nn can also be used for regression. Let's see how well it works in this problem. Warning: it takes a while to run!"
      ],
      "metadata": {
        "id": "vAJqexHTH94x"
      }
    },
    {
      "cell_type": "code",
      "source": [
        "model = KNeighborsRegressor(algorithm='brute',n_jobs=-1)\n",
        "model.fit(X_train,y_train)\n",
        "pred = model.predict(X_test)\n",
        "print('Mean squared error = {:5.2f}'.format(mean_squared_error(pred,y_test)))\n",
        "print('Mean absolute error =  {:5.2f}'.format(mean_absolute_error(pred,y_test)))"
      ],
      "metadata": {
        "colab": {
          "base_uri": "https://localhost:8080/"
        },
        "id": "_OPCFiSgIBNA",
        "outputId": "18f1d385-92e1-4e9d-a1c7-12a3fb99e02d"
      },
      "execution_count": 9,
      "outputs": [
        {
          "output_type": "stream",
          "name": "stdout",
          "text": [
            "Mean squared error = 11.49\n",
            "Mean absolute error =   1.63\n"
          ]
        }
      ]
    },
    {
      "cell_type": "markdown",
      "source": [
        "## Exercises\n",
        "\n",
        "Let's build our own ensembles of decision tree regressors to see if we can surpass the performance of random forests using the same number of individual trees (the sklearn implementation uses 100 by default). So, instead of using sklearn's RandomForestRegressor, we will build the ensemble ourselves by building 100 trees (use a loop)."
      ],
      "metadata": {
        "id": "p1cn2xJYIFFS"
      }
    },
    {
      "cell_type": "markdown",
      "source": [
        "1. Build an ensemble that uses 100 trees with random splitting instead of best splitting to solve the problem. Print the mean squared error and mean absolute error evaluated on the test dataset. Each tree should be an instance of the DecisionTreeRegressor class - use the [splitter](https://scikit-learn.org/stable/modules/generated/sklearn.tree.DecisionTreeRegressor.html) argument to tell sklearn how to choose the split at each node."
      ],
      "metadata": {
        "id": "Mpbq6ORhIN4e"
      }
    },
    {
      "cell_type": "code",
      "source": [
        "# Your code goes here\n",
        "\n",
        "#model = DecisionTreeRegressor()\n",
        "#model.fit(X_train,y_train)\n",
        "#pred = model.predict(X_test)\n",
        "#print('Mean squared error = {:5.2f}'.format(mean_squared_error(pred,y_test)))\n",
        "#print('Mean absolute error =  {:5.2f}'.format(mean_absolute_error(pred,y_test)))\n",
        "\n",
        "def random_splitting():\n",
        "  E = []\n",
        "  for i in range(100):\n",
        "    tree = DecisionTreeRegressor(splitter=\"random\")\n",
        "    tree.fit(X_train, y_train)\n",
        "    #pred = tree.predict(X_test)\n",
        "    E.append(tree)\n",
        "  return E\n",
        "\n",
        "# Getting the average of the predictions\n",
        "ensambles_1 = random_splitting()\n",
        "sum = 0\n",
        "for i in range(len(ensambles_1)):\n",
        "  sum += ensambles_1[i].predict(X_test)\n",
        "sum /= 100\n",
        "\n",
        "print('Mean squared error = {:5.2f}'.format(mean_squared_error(sum,y_test)))\n",
        "print('Mean absolute error =  {:5.2f}'.format(mean_absolute_error(sum,y_test)))"
      ],
      "metadata": {
        "id": "ic6h6vN-IdSR",
        "colab": {
          "base_uri": "https://localhost:8080/"
        },
        "outputId": "077e165c-6c20-4af7-d4fd-4063eec950f7"
      },
      "execution_count": 15,
      "outputs": [
        {
          "output_type": "stream",
          "name": "stdout",
          "text": [
            "Mean squared error =  3.63\n",
            "Mean absolute error =   0.66\n"
          ]
        }
      ]
    },
    {
      "cell_type": "markdown",
      "source": [
        "2. Build an ensemble that uses bagging and 100 trees to solve the problem. Print the mean squared error and mean absolute error evaluated on the test dataset. Each tree should be an instance of the DecisionTreeRegressor class."
      ],
      "metadata": {
        "id": "LHCUY6hxIeyp"
      }
    },
    {
      "cell_type": "code",
      "source": [
        "# Your code goes here\n",
        "def ensemble_bagging():\n",
        "  E = []\n",
        "  for i in range(100):\n",
        "    tree = DecisionTreeRegressor()\n",
        "    random_vector = np.random.randint(low = 0, high = X_train.shape[0], size = X_train.shape[0])\n",
        "    tree.fit(X_train[random_vector], y_train[random_vector])\n",
        "    E.append(tree)\n",
        "  return E\n",
        "\n",
        "# Getting the average of the predictions\n",
        "ensembles_2 = ensemble_bagging()\n",
        "sum = 0\n",
        "for i in range(len(ensembles_2)):\n",
        "  sum += ensembles_2[i].predict(X_test)\n",
        "sum /= 100\n",
        "\n",
        "print('Mean squared error = {:5.2f}'.format(mean_squared_error(sum,y_test)))\n",
        "print('Mean absolute error =  {:5.2f}'.format(mean_absolute_error(sum,y_test)))"
      ],
      "metadata": {
        "id": "4pKHcwpVInNk",
        "colab": {
          "base_uri": "https://localhost:8080/"
        },
        "outputId": "7e2ae032-a266-4081-c446-0d0a034be738"
      },
      "execution_count": 10,
      "outputs": [
        {
          "output_type": "stream",
          "name": "stdout",
          "text": [
            "Mean squared error =  4.89\n",
            "Mean absolute error =   0.80\n"
          ]
        }
      ]
    },
    {
      "cell_type": "markdown",
      "source": [
        "3. Build an ensemble that uses random attribute selection and 100 regression trees to solve the problem. Print the mean squared error and mean absolute error evaluated on the test dataset. Each tree should be an instance of the DecisionTreeRegressor class."
      ],
      "metadata": {
        "id": "uFVy051iInu5"
      }
    },
    {
      "cell_type": "code",
      "source": [
        "# Your code goes here\n",
        "def ensemble_random_attribute():\n",
        "  E = []\n",
        "  for i in range(100):\n",
        "    tree = DecisionTreeRegressor()\n",
        "    boolean_vector = np.random.choice(a=[True, False], size=(X_train.shape[1],))\n",
        "    tree.fit(X_train[:,boolean_vector], y_train)\n",
        "    E.append(tree.predict(X_test[:,boolean_vector]))\n",
        "  return E\n",
        "\n",
        "# Getting the average of the predictions\n",
        "#ensembles_3 = ensemble_random_attribute()\n",
        "#sum = 0\n",
        "#for i in range(len(ensembles_3)):\n",
        "#  sum += ensembles_3[i].predict(X_test)\n",
        "#sum /= 100\n",
        "\n",
        "ensembles_3 = ensemble_random_attribute()\n",
        "sum = 0\n",
        "for i in range(len(ensembles_3)):\n",
        "  sum += ensembles_3[i]\n",
        "sum /= 100\n",
        "\n",
        "print('Mean squared error = {:5.2f}'.format(mean_squared_error(sum,y_test)))\n",
        "print('Mean absolute error =  {:5.2f}'.format(mean_absolute_error(sum,y_test)))"
      ],
      "metadata": {
        "id": "yvqCaa6KIzQ5",
        "colab": {
          "base_uri": "https://localhost:8080/"
        },
        "outputId": "c9e1e81f-5b47-4252-f76e-950ea7f8fd1e"
      },
      "execution_count": 16,
      "outputs": [
        {
          "output_type": "stream",
          "name": "stdout",
          "text": [
            "Mean squared error = 15261.64\n",
            "Mean absolute error =  64.28\n"
          ]
        }
      ]
    },
    {
      "cell_type": "markdown",
      "source": [
        "## Submission Instructions\n",
        "\n",
        "1. File > Download .ipynb\n",
        "2. Go to Blackboard, find the submission page, and upload the .ipynb file you just downloaded."
      ],
      "metadata": {
        "id": "UBSCuu6I4BkJ"
      }
    }
  ]
}