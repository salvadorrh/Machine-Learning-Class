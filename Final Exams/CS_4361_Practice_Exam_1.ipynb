{
  "nbformat": 4,
  "nbformat_minor": 0,
  "metadata": {
    "colab": {
      "name": "Copy of [Spring 2022] CS 4361 / 5361 - Practice Exam 1",
      "provenance": [],
      "collapsed_sections": []
    },
    "kernelspec": {
      "name": "python3",
      "display_name": "Python 3"
    }
  },
  "cells": [
    {
      "cell_type": "markdown",
      "metadata": {
        "id": "MKsRDH5ZUdfasdv"
      },
      "source": [
        "# [Spring 2022] CS 4361 / 5361 - Practice Exam 1\n"
      ]
    },
    {
      "cell_type": "markdown",
      "metadata": {
        "id": "overview"
      },
      "source": [
        "## **Before you start**\n",
        "\n",
        "Make a copy of this Colab by clicking on File > Save a Copy in Drive\n"
      ]
    },
    {
      "cell_type": "code",
      "metadata": {
        "id": "nen9M7Vqj5cy"
      },
      "source": [
        "student_name = \"Salvador Robles Herrera\"\n",
        "student_id = \"80683116\""
      ],
      "execution_count": null,
      "outputs": []
    },
    {
      "cell_type": "markdown",
      "metadata": {
        "id": "Yys5961wWbrH"
      },
      "source": [
        "Total number of points: 108 [---8 points of extra credit---]"
      ]
    },
    {
      "cell_type": "markdown",
      "metadata": {
        "id": "BP7b0ZYDnoV6"
      },
      "source": [
        "### [4 points] Problem 1\n",
        " \n",
        "Consider the following dataset:\n",
        "\n",
        "![image.png](data:image/png;base64,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)\n",
        "\n",
        "What values would the Naive Bayes classifier assign to p(Class=0) and  p(Class=1)?\n",
        "\n",
        "\n",
        "| Option 0 \t| Option 1 \t| Option 2 \t| Option 3 \t| Option 4 \t| Option 5 \t|\n",
        "|-\t|-\t|-\t|-\t|-\t|-\t|\n",
        "| p(Class=0) = 0 <br /> p(Class=1) = 1 \t| p(Class=0) = 4 <br /> p(Class=1) = 3 \t| p(Class=0) = 1/2 <br /> p(Class=1) = 1/2 \t| p(Class=0) = 4/7 <br /> p(Class=1) = 3/7 | p(Class=0) = 3/7 <br /> p(Class=1) = 4/7 \t|Something else \t|\n"
      ]
    },
    {
      "cell_type": "code",
      "metadata": {
        "id": "sbwF-hLQtfBA"
      },
      "source": [
        "def get_prob1_ans():\n",
        "  # There are 4 0's and 3 1's\n",
        "  return 3  # If you think the answer to \n",
        "            # the problem is option n, return n\n"
      ],
      "execution_count": null,
      "outputs": []
    },
    {
      "cell_type": "markdown",
      "metadata": {
        "id": "RFbLRRjKqEk3"
      },
      "source": [
        "### [4 points] Problem 2\n",
        " \n",
        "Consider the following dataset:\n",
        "\n",
        "![image.png](data:image/png;base64,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)\n",
        "\n",
        "What is the value of p(a1=1|Class=0)?\n",
        "\n",
        "\n",
        "| Option 0 \t| Option 1 \t| Option 2 \t| Option 3 \t| Option 4 \t| Option 5 \t|\n",
        "|-\t|-\t|-\t|-\t|-\t|-\t|\n",
        "| 1/7 | 1/3 | 1/2 | 2/3 | 5/7 | Something else |\n",
        "\n"
      ]
    },
    {
      "cell_type": "code",
      "metadata": {
        "id": "S7Rtqgj7qPqM"
      },
      "source": [
        "def get_prob2_ans():\n",
        "  # The probability of a1 being 1 given that class = 0\n",
        "  # Note that there are 4 0s and from those there are 2 1s \n",
        "  # Therefore 2/4 = 1/2\n",
        "  return 2  # If you think the answer to \n",
        "            # the problem is option n, return n\n"
      ],
      "execution_count": null,
      "outputs": []
    },
    {
      "cell_type": "markdown",
      "metadata": {
        "id": "6AesGPkBrMz7"
      },
      "source": [
        "### [4 points] Problem 3\n",
        " \n",
        "Consider the following dataset:\n",
        "\n",
        "![image.png](data:image/png;base64,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)\n",
        "\n",
        "What is the value of p(Class=0|a1=1)?\n",
        "\n",
        "\n",
        "| Option 0 \t| Option 1 \t| Option 2 \t| Option 3 \t| Option 4 \t| Option 5 \t|\n",
        "|-\t|-\t|-\t|-\t|-\t|-\t|\n",
        "| 1/7 | 1/3 | 1/2 | 2/3 | 5/7 | Something else |\n",
        "\n"
      ]
    },
    {
      "cell_type": "code",
      "metadata": {
        "id": "1SWoSluYrRA_"
      },
      "source": [
        "def get_prob3_ans():\n",
        "  # Probability that class = 0, given that a1 = 1\n",
        "  # There are 3 1s in a1, in which class = 0 are 2 \n",
        "  # Therefore 2/3\n",
        "  return 3  # If you think the answer to \n",
        "            # the problem is option n, return n\n"
      ],
      "execution_count": null,
      "outputs": []
    },
    {
      "cell_type": "markdown",
      "metadata": {
        "id": "AZcEDR6irlig"
      },
      "source": [
        "### [4 points] Problem 4\n",
        "\t\n",
        "Which validation strategy would you recommend to estimate the performance of k-nearest neighbors on a large dataset? We want the best estimate of the performance that can be computed in a **reasonable** amount of time. Assume the dataset is so large, that it takes a very long time to find the k-nearest neigbhors of a test point. \n",
        "\n",
        "| Option 0 \t| Option 1 \t| Option 2 \t| Option 3 \t| Option 4 \t|\n",
        "|-\t|-\t|-\t|-\t|-\t|\n",
        "| Splitting the data into training and test sets \t| 10-fold cross-validation \t| 100-fold cross-validation \t| Leave-one-out cross-validation |  Something else \t|\n"
      ]
    },
    {
      "cell_type": "code",
      "metadata": {
        "id": "0On0U2V0rwdC"
      },
      "source": [
        "def get_prob4_ans():\n",
        "  # This is the fastest way since you train the dataset only once\n",
        "  return 0  # If you think the answer to \n",
        "            # the problem is option n, return n\n"
      ],
      "execution_count": null,
      "outputs": []
    },
    {
      "cell_type": "markdown",
      "metadata": {
        "id": "E8zPMGy4MKmf"
      },
      "source": [
        "### [4 points] Problem 5\n",
        "\t\n",
        "A binary classifier produced the following confusion matrix:\n",
        "\n",
        "![image.png](data:image/png;base64,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)\n",
        "\n",
        "What is the classifier's accuracy?\n",
        "\n",
        "\n",
        "| Option 0 \t| Option 1 \t| Option 2 \t| Option 3 \t| Option 4 \t| Option 5 \t|\n",
        "|-\t|-\t|-\t|-\t|-\t|-\t|\n",
        "|  85/100 \t| 88/100 \t| 15/100 \t| 13/100 | 87/100 | Something else \t|\n"
      ]
    },
    {
      "cell_type": "code",
      "source": [
        "def get_prob5_ans():\n",
        "  # 80 + 8 = 88 => 80 + 5 + 7 + 8 = 100 => 88/100\n",
        "  return 1  # If you think the answer to \n",
        "            # the problem is option n, return n\n"
      ],
      "metadata": {
        "id": "pveuX_rzMhTc"
      },
      "execution_count": null,
      "outputs": []
    },
    {
      "cell_type": "markdown",
      "source": [
        "### [4 points] Problem 6\n",
        "\t\n",
        "A binary classifier produced the following confusion matrix:\n",
        "\n",
        "![image.png](data:image/png;base64,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)\n",
        "\n",
        "What is the classifier's precision?\n",
        "\n",
        "\n",
        "| Option 0 \t| Option 1 \t| Option 2 \t| Option 3 \t| Option 4 \t| Option 5 \t|\n",
        "|-\t|-\t|-\t|-\t|-\t|-\t|\n",
        "|  85/100 \t| 88/100 \t| 8/10 \t| 8/15 | 8/13 | Something else \t|\n"
      ],
      "metadata": {
        "id": "CJRsv-wOMmqv"
      }
    },
    {
      "cell_type": "code",
      "source": [
        "def get_prob6_ans():\n",
        "  # Precision is the number of true positives\n",
        "  # TP / (TP + FP)\n",
        "  # 8 / 8 + 5 = 8 / 13\n",
        "  return 4  # If you think the answer to \n",
        "            # the problem is option n, return n\n"
      ],
      "metadata": {
        "id": "gOEYGbjHM-MO"
      },
      "execution_count": null,
      "outputs": []
    },
    {
      "cell_type": "markdown",
      "source": [
        "### [4 points] Problem 7\n",
        "\t\n",
        "A binary classifier produced the following confusion matrix:\n",
        "\n",
        "![image.png](data:image/png;base64,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)\n",
        "\n",
        "What is the classifier's recall?\n",
        "\n",
        "\n",
        "| Option 0 \t| Option 1 \t| Option 2 \t| Option 3 \t| Option 4 \t| Option 5 \t|\n",
        "|-\t|-\t|-\t|-\t|-\t|-\t|\n",
        "|  85/100 \t| 88/100 \t| 8/10 \t| 8/15 | 8/13 | Something else \t|\n"
      ],
      "metadata": {
        "id": "3BsIA_s5M-1Q"
      }
    },
    {
      "cell_type": "code",
      "source": [
        "def get_prob7_ans():\n",
        "  # Recall cares about actual positives\n",
        "  # TP / (TP + FN) \n",
        "  # 8 / 8 + 7 = 8 / 15\n",
        "  return 3  # If you think the answer to \n",
        "            # the problem is option n, return n\n"
      ],
      "metadata": {
        "id": "-n2jGk5jNGNR"
      },
      "execution_count": null,
      "outputs": []
    },
    {
      "cell_type": "markdown",
      "source": [
        "### [4 points] Problem 8\n",
        "\t\n",
        "A binary classifier produced the following confusion matrix:\n",
        "\n",
        "![image.png](data:image/png;base64,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)\n",
        "\n",
        "What is the classifier's f-measure (feel free to use a calculator)?\n",
        "\n",
        "\n",
        "| Option 0 \t| Option 1 \t| Option 2 \t| Option 3 \t| Option 4 \t| Option 5 \t|\n",
        "|-\t|-\t|-\t|-\t|-\t|-\t|\n",
        "|  85/100 \t| 88/100 \t| 8/10 \t| 8/15 | 8/13 | Something else \t|\n"
      ],
      "metadata": {
        "id": "0R_i0kRoNSFS"
      }
    },
    {
      "cell_type": "code",
      "source": [
        "def get_prob8_ans():\n",
        "  # f1 score?\n",
        "  # 2 * (precision * recall) / (precision + recall)\n",
        "  # 2 * (8/13 * 8/15) / (8/13 + 8/15)\n",
        "  # 4/7\n",
        "  return 5  # If you think the answer to \n",
        "            # the problem is option n, return n\n"
      ],
      "metadata": {
        "id": "J3mwugrGfMR6"
      },
      "execution_count": null,
      "outputs": []
    },
    {
      "cell_type": "markdown",
      "source": [
        "### [4 points] Problem 9\n",
        "\t\n",
        "Let C be an unweighted k-nearest neighbors classifier where k is equal to the size of the training set. Which of the following statements is true?\n",
        "\n",
        "\n",
        "**Option 0:** C will predict the majority class in the training set for all examples in the test set. \n",
        "\n",
        "**Option 1:** C will predict the minority class in the training set for all examples in the test set. \n",
        "\n",
        "**Option 2:** We don't have enough information to know if C will predict the majority class or minority class in the training set for all examples in the test set. \n",
        "\n",
        "**Option 3:** None of the above"
      ],
      "metadata": {
        "id": "eK9_sI1rfQJ2"
      }
    },
    {
      "cell_type": "code",
      "source": [
        "def get_prob9_ans():\n",
        "  # Majority no?\n",
        "  return 0  # If you think the answer to \n",
        "            # the problem is option n, return n\n"
      ],
      "metadata": {
        "id": "xvowIJBDiy_b"
      },
      "execution_count": null,
      "outputs": []
    },
    {
      "cell_type": "markdown",
      "source": [
        "### [4 points] Problem 10\n",
        "\t\n",
        "Which of the following statements is true?\n",
        "\n",
        "\n",
        "**Option 0:** A weighted k-nn classifer with k=1 will never make exactly the same class predictions as a weighted k-nn classifer with k=2 (assume no ties).\n",
        "\n",
        "**Option 1:** A weighted k-nn classifer with k=1 will sometimes make the same class predictions as a weighted k-nn classifer with k=2 (assume no ties).\n",
        "\n",
        "**Option 2:** A weighted k-nn classifer with k=1 will always make exactly the same class predictions as a weighted k-nn classifer with k=2 (assume no ties).\n",
        "\n",
        "**Option 3:** None of the above"
      ],
      "metadata": {
        "id": "txJkds1QjL0o"
      }
    },
    {
      "cell_type": "code",
      "source": [
        "def get_prob10_ans():\n",
        " # No difference\n",
        " # Never use k=2\n",
        "  return 2  # If you think the answer to \n",
        "            # the problem is option n, return n\n"
      ],
      "metadata": {
        "id": "OEUl4v2gjvAF"
      },
      "execution_count": null,
      "outputs": []
    },
    {
      "cell_type": "markdown",
      "source": [
        "### [4 points] Problem 11\n",
        "\t\n",
        "Which of the following statements is true?\n",
        "\n",
        "\n",
        "**Option 0:** We say that a model overfits when it performs better on the test dataset than we had anticipated.\n",
        "\n",
        "**Option 1:** We say that a model overfits when it performs better on the test dataset than on the training datsset.\n",
        "\n",
        "**Option 2:** We say that a model underfits when it performs worse on the test dataset than on the training datsset.\n",
        "\n",
        "**Option 3:** We say that a model underfits when it performs poorly on the testing dataset but it perfoms well on the training dataset. \n",
        "\n",
        "**Option 4:** We say that a model overfits when it performs well on the training dataset but it performs poorly on the test dataset. "
      ],
      "metadata": {
        "id": "Mw6dIw1mjs_U"
      }
    },
    {
      "cell_type": "code",
      "source": [
        "def get_prob11_ans():\n",
        "\n",
        "  return 4  # If you think the answer to \n",
        "            # the problem is option n, return n\n"
      ],
      "metadata": {
        "id": "RiFk-l9Kjwc4"
      },
      "execution_count": null,
      "outputs": []
    },
    {
      "cell_type": "markdown",
      "source": [
        "### [4 points] Problem 12\n",
        "\t\n",
        "Suppose we train a classifier and evaluate its performance using the same dataset (i.e. we don't use separate training and test sets). This results in an overoptimistic performance prediction. Which algorithm will have its performance most over-estimated? (i.e. the difference between the estimated performance and the performance on unseen data will be largest). \n",
        "\n",
        "**Option 0:** K-nearest neighbors with k=1\n",
        "\n",
        "**Option 1:** Naive Bayes\n",
        "\n",
        "**Option 2:** A Decision Tree with max_depth=2\n",
        "\n",
        "**Option 3:** A Regression Tree with max_depth=1"
      ],
      "metadata": {
        "id": "RifIEQT-kDVx"
      }
    },
    {
      "cell_type": "code",
      "source": [
        "def get_prob12_ans():\n",
        "  # Selecting the same point\n",
        "  return 0  # If you think the answer to \n",
        "            # the problem is option n, return n\n"
      ],
      "metadata": {
        "id": "vkQ7LfuflVrJ"
      },
      "execution_count": null,
      "outputs": []
    },
    {
      "cell_type": "markdown",
      "source": [
        "### [4 points] Problem 13\n",
        "\n",
        "Naive Bayes computes predictions by multiplying an often large number of conditional probabilities. This often results in numeric underflow (i.e. the product becomes 0). Which of the following is true?\n",
        "\n",
        "**Option 0:** To mitigate this problem and still get the same class predictions, we can sum the conditional probabilities instead of multiplying them.\n",
        "\n",
        "**Option 1:** To mitigate this problem and still get the same class predictions, we can sum the logarithms of the conditional probabilities.\n",
        "\n",
        "**Option 2:** To mitigate this problem and still get the same class predictions, we can multiply the logarithms of the conditional probabilities.\n",
        "\n",
        "**Option 3:** To mitigate this problem and still get the same class predictions, we can add 1 to all conditional probabilities before multiplying them.\n",
        "\n",
        "**Option 4:** None of the above"
      ],
      "metadata": {
        "id": "n0o6aylglV95"
      }
    },
    {
      "cell_type": "code",
      "source": [
        "def get_prob13_ans():\n",
        "  # Its the same with logs and not dividing the results\n",
        "  return 1  # If you think the answer to \n",
        "            # the problem is option n, return n\n"
      ],
      "metadata": {
        "id": "RuVc6cK6oU0O"
      },
      "execution_count": null,
      "outputs": []
    },
    {
      "cell_type": "markdown",
      "source": [
        "### [4 points] Problem 14\n",
        "\n",
        "The 2-class dataset in the table below contains 8 training examples described by 3 attributes. Suppose we want to build a decision tree using the ID3 algorithm (covered in class). Recall that we place at the root the attribute with highest information gain.  If we sort the atttributes by DECREASING information gain, what ordering will we obtain? Hint - there is no need to perform any calculations.\n",
        "\n",
        "\n",
        "|A1\t| A2\t| A3\t| Class|\n",
        "|-\t|-\t|-\t|-\t|\n",
        "|A\t|C\t|E\t|0|\n",
        "|B\t|C\t|F\t|0|\n",
        "|A\t|C\t|F\t|0|\n",
        "|B\t|C\t|F\t|0|\n",
        "|A\t|D\t|F\t|1|\n",
        "|B\t|D\t|E\t|1|\n",
        "|A\t|D\t|E\t|1|\n",
        "|B\t|D\t|E\t|1|\n",
        "\n",
        "\n",
        "**Option 0:** A1, A2, A3\n",
        "\n",
        "**Option 1:** A1, A3, A2\n",
        "\n",
        "**Option 2:** A2, A1, A3\n",
        "\n",
        "**Option 3:** A2, A3, A1\n",
        "\n",
        "**Option 4:** A3, A1, A2\n",
        "\n",
        "**Option 5:** A3, A2, A1\n",
        "\n",
        "**Option 6:** I don't know ):\n"
      ],
      "metadata": {
        "id": "k5QvosEsoj9N"
      }
    },
    {
      "cell_type": "code",
      "source": [
        "def get_prob14_ans():\n",
        "  # It's more pure with A3, then A2. A 1 is very unpure\n",
        "  # The entropy is 1, very bad!\n",
        "  return 3  # If you think the answer to \n",
        "            # the problem is option n, return n\n"
      ],
      "metadata": {
        "id": "nuuPv6Bkrf6-"
      },
      "execution_count": null,
      "outputs": []
    },
    {
      "cell_type": "markdown",
      "source": [
        "### [4 points] Problem 15\n",
        "\n",
        "Consider the dataset below. Suppose we build a regression tree with a single internal node (the root) a2<2.5. What value will the tree predict for examples for which a2<2.5? \n",
        "\n",
        "|  |a1\t|a2|\ty|\n",
        "|- |- |-|-|\n",
        "|x1 |5.0|\t2.0|\t3.0|\n",
        "|x2\t|1.0|\t3.0|\t2.0|\n",
        "|x3\t|3.0|\t4.0|\t1.0|\n",
        "|x4\t|4.0|\t1.0|\t4.0|"
      ],
      "metadata": {
        "id": "YF12g99SrsK4"
      }
    },
    {
      "cell_type": "code",
      "source": [
        "def get_prob15_ans():\n",
        "  # Average: (3+4)/2\n",
        "  return 3.5  # Return the value the tree would predict if a2<2.5\n"
      ],
      "metadata": {
        "id": "ileb_N-sse3p"
      },
      "execution_count": null,
      "outputs": []
    },
    {
      "cell_type": "markdown",
      "source": [
        "### [4 points] Problem 16\n",
        "\n",
        "Consider the dataset below. Suppose we build a regression tree with a single internal node (the root) a2<2.5. What value will the tree predict for examples for which a2>=2.5? \n",
        "\n",
        "|  |a1\t|a2|\ty|\n",
        "|- |- |-|-|\n",
        "|x1 |5.0|\t2.0|\t3.0|\n",
        "|x2\t|1.0|\t3.0|\t2.0|\n",
        "|x3\t|3.0|\t4.0|\t1.0|\n",
        "|x4\t|4.0|\t1.0|\t4.0|"
      ],
      "metadata": {
        "id": "Vr4EP-P0stxX"
      }
    },
    {
      "cell_type": "code",
      "source": [
        "def get_prob16_ans():\n",
        "  # Average: (1 + 2)/2\n",
        "  return 1.5  # Return the value the tree would predict if a2>=2.5\n"
      ],
      "metadata": {
        "id": "QXWpOzgSsyFl"
      },
      "execution_count": null,
      "outputs": []
    },
    {
      "cell_type": "markdown",
      "source": [
        "### [11 points] Problem 17\n",
        "\n",
        "Given the training dataset for a binary classification task (x_train, y_train) and the column index (att_col) of a binary attribute, calculate the attribute's information gain. \n",
        "\n",
        "Make the following assumptions:\n",
        "1. x_train is a numpy matrix of size (num_examples, num_attributes)\n",
        "2. x_train[:, att_col] contains only 0s and 1s\n",
        "3. y_train is a numpy vector of size (num_examples) that contains only 0s and 1s\n",
        "\n",
        "Formulas:\n",
        "\n",
        "$Entropy(S) = -p_+ log_2(p_+) - p_- log_2(p_-) $\n",
        "\n",
        "$Gain(S, A) = Entropy(S) - \\sum_{v \\in \\{0,1\\}} \\frac{|S_v|}{|S|}Entropy(S_v)$\n"
      ],
      "metadata": {
        "id": "DaSkeeyRBV3X"
      }
    },
    {
      "cell_type": "code",
      "source": [
        "# Feel free to add helper methods, just don't change the signature\n",
        "# of the gain method\n",
        "import numpy as np\n",
        "\n",
        "def entropy(pp, pm):\n",
        "  return -pp * np.log2(pp) - pm * np.log2(pm)\n",
        "\n",
        "def gain(x_train, y_train, att_col):\n",
        "  # Your code goes here\n",
        "  x_0 = x_train[:,att_col] == 0\n",
        "  x_1 = x_train[:,att_col] == 1\n",
        "\n",
        "  y_0 = y[x_0]\n",
        "  y_1 = y[x_1] \n",
        "\n",
        "  entropy()\n",
        "  return 0 # Feel free to change/remove this line"
      ],
      "metadata": {
        "id": "HS5TJvGdG_ul"
      },
      "execution_count": null,
      "outputs": []
    },
    {
      "cell_type": "code",
      "source": [
        "# Test cases\n",
        "\n",
        "def test_gain():\n",
        "  problem_points = 11.0\n",
        "  x_train = np.array([\n",
        "                      [1, 0],\n",
        "                      [1, 1],\n",
        "                      [1, 0],\n",
        "                      [1, 0],\n",
        "                      [0, 0],\n",
        "                      [0, 1],\n",
        "                      [0, 0],\n",
        "                      [1, 0],\n",
        "                      [0, 0],\n",
        "                      [0, 1],\n",
        "                      [0, 1],\n",
        "                      [1, 1],\n",
        "                      [0, 0],\n",
        "                      [1, 1]\n",
        "                    ], dtype=np.float32)\n",
        "  \n",
        "  y_train = np.array([0,0,1,1,1,0,1,0,1,1,1,1,1,0], dtype=np.float32)\n",
        "\n",
        "  test1_expected = 0.15183550136234142\n",
        "  test2_expected = 0.04812703040826932\n",
        "\n",
        "  test_inputs = [0, 1]\n",
        "  expected_outputs = [test1_expected, test2_expected]\n",
        "  eps = 0.0001\n",
        "\n",
        "  num_tests = len(expected_outputs)\n",
        "  passed_tests = 0\n",
        "\n",
        "  for att_col, exp_out in zip(test_inputs, expected_outputs):\n",
        "    method_out = gain(x_train, y_train, att_col)\n",
        "    passed = abs(method_out - exp_out) <= eps\n",
        "    passed_tests += int(passed)\n",
        "\n",
        "    if not passed:\n",
        "      print(\"Incorrect Answer. Expected output ( att_col =\", att_col, \"):\", \n",
        "            exp_out, \" Your method output:\", method_out)\n",
        "  \n",
        "  print(\"Problem 17:\", (passed_tests/num_tests) * problem_points, \"/\", problem_points)\n",
        "  \n",
        "\n",
        "test_gain()"
      ],
      "metadata": {
        "colab": {
          "base_uri": "https://localhost:8080/"
        },
        "id": "R7vmDlKeHmK7",
        "outputId": "2e831cee-c3c3-4c1b-f84e-6081d44b8e94"
      },
      "execution_count": null,
      "outputs": [
        {
          "output_type": "stream",
          "name": "stdout",
          "text": [
            "Incorrect Answer. Expected output ( att_col = 0 ): 0.15183550136234142  Your method output: 0\n",
            "Incorrect Answer. Expected output ( att_col = 1 ): 0.04812703040826932  Your method output: 0\n",
            "Problem 17: 0.0 / 11.0\n"
          ]
        }
      ]
    },
    {
      "cell_type": "markdown",
      "source": [
        "### [11 points] Problem 18\n",
        "\n",
        "Given the training (x_train, y_train) and testing (x_test, y_test) datasets for a binary classification task, build multiple k-nn classifiers on the training dataset using the following values for k: 1, 3, 5, 7, and return the value of k that results in the highest accuracy on the test dataset. \n",
        "\n",
        "Make the following assumptions:\n",
        "1. x_train is a numpy matrix of size (num_training_examples, num_attributes)\n",
        "2. x_test is a numpy matrix of size (num_test_examples, num_attributes)\n",
        "3. y_train is a numpy vector of size (num_training_examples) that contains only 0s and 1s\n",
        "4. y_test is a numpy vector of size (num_test_examples) that contains only 0s and 1s\n",
        "\n",
        "Here's an example on how you can build a k-nn classifier where k=3:\n",
        "\n",
        "    model = KNeighborsClassifier(n_neighbors=3)\n",
        "    model.fit(x, y)\n",
        "\n",
        "Here's an example on how you can test the classifier\n",
        "\n",
        "    predictions = model.predict(x)\n",
        "    accuracy = accuracy_score(true_labels, predictions)"
      ],
      "metadata": {
        "id": "dM65L03qQcU7"
      }
    },
    {
      "cell_type": "code",
      "source": [
        "from sklearn.neighbors import KNeighborsClassifier\n",
        "from sklearn.metrics import accuracy_score\n",
        "import numpy as np\n",
        "\n",
        "# Feel free to add helper methods, just don't change the signature\n",
        "# of the get_best_k method\n",
        "def get_best_k(x_train, y_train, x_test, y_test):\n",
        "\n",
        "  # Your code goes here\n",
        "  # for att in len():\n",
        "  #   for exmpl in len(x_train[]):\n",
        "  return 0 # Feel free to change/remove this line\n",
        "\n",
        "\n"
      ],
      "metadata": {
        "id": "V-KwGoTzR8Nu"
      },
      "execution_count": null,
      "outputs": []
    },
    {
      "cell_type": "markdown",
      "source": [
        "### [11 points] Problem 19\n",
        "\n",
        "Given the predictions made by a model (y_pred) and the corresponding true labels (y_test), return True if the model's accuracy is greater than the accuracy of a dummy baseline model that classifies everything as the value that repeats the most in y_test; False, otherwise.\n",
        "\n",
        "Make the following assumptions:\n",
        "1. y_pred is a numpy vector of size (num_examples) that contains only 0s and 1s\n",
        "2. y_test is a numpy vector of size (num_examples) that contains only 0s and 1s\n",
        "\n",
        "Feel free to use the method accuracy_score.\n",
        "\n"
      ],
      "metadata": {
        "id": "S6j7z2SOU0F8"
      }
    },
    {
      "cell_type": "code",
      "source": [
        "from sklearn.metrics import accuracy_score\n",
        "import numpy as np\n",
        "\n",
        "# Feel free to add helper methods, just don't change the signature\n",
        "# of the is_better_than_baseline method\n",
        "def is_better_than_baseline(y_pred, y_test):\n",
        "\n",
        "  # Your code goes here\n",
        "  \n",
        "  return False # Feel free to change/remove this line\n"
      ],
      "metadata": {
        "id": "5B7JyQsgV2PH"
      },
      "execution_count": null,
      "outputs": []
    },
    {
      "cell_type": "markdown",
      "source": [
        "### [11 points] Problem 20\n",
        "\n",
        "Given a training dataset (x_train) count and return the number of attributes that have the same value for all examples in x_train.\n",
        "\n",
        "Make the following assumptions:\n",
        "1. x_train is a numpy matrix of size (num_examples, num_attributes)\n",
        "\n"
      ],
      "metadata": {
        "id": "U1JNV1cvWJof"
      }
    },
    {
      "cell_type": "code",
      "source": [
        "import numpy as np\n",
        "\n",
        "# Feel free to add helper methods, just don't change the signature\n",
        "# of the count_same_val_atts method\n",
        "def count_same_val_atts(x_train):\n",
        "\n",
        "  # how many attributes have the same thing. How many rows are equal. \n",
        "  # Remove them from the dataset\n",
        "  # You're not going to benefit from these\n",
        "  # Your code goes here\n",
        "\n",
        "  for att in len(x_train[0]):\n",
        "    for exmpl in len(x_train):\n",
        "      \n",
        "\n",
        "  return 0 # Feel free to change/remove this line\n"
      ],
      "metadata": {
        "id": "Qx2zWYpKW6SI"
      },
      "execution_count": null,
      "outputs": []
    },
    {
      "cell_type": "markdown",
      "metadata": {
        "id": "Pvc8YZjiyMO5"
      },
      "source": [
        "## How to Submit This Exam\n",
        "\n",
        "1. File > Download .ipynb\n",
        "2. Go to Blackboard, find the lab submission page, and upload the .ipynb file you just downloaded."
      ]
    }
  ]
}
