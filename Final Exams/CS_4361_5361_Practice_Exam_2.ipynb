{
  "nbformat": 4,
  "nbformat_minor": 0,
  "metadata": {
    "colab": {
      "name": "Copy of [Spring 2022] CS 4361 / 5361 - Practice Exam 2",
      "provenance": [],
      "collapsed_sections": []
    },
    "kernelspec": {
      "name": "python3",
      "display_name": "Python 3"
    }
  },
  "cells": [
    {
      "cell_type": "markdown",
      "metadata": {
        "id": "MKsRDH5ZUdfasdv"
      },
      "source": [
        "# [Spring 2022] CS 4361 / 5361 - Practice Exam 2\n"
      ]
    },
    {
      "cell_type": "markdown",
      "metadata": {
        "id": "overview"
      },
      "source": [
        "## **Before you start**\n",
        "\n",
        "Make a copy of this Colab by clicking on File > Save a Copy in Drive\n"
      ]
    },
    {
      "cell_type": "code",
      "metadata": {
        "id": "nen9M7Vqj5cy"
      },
      "source": [
        "student_name = \"Salvador Robles Herrera\"\n",
        "student_id = \"80683116\""
      ],
      "execution_count": null,
      "outputs": []
    },
    {
      "cell_type": "markdown",
      "metadata": {
        "id": "Yys5961wWbrH"
      },
      "source": [
        "Total number of points: 108 [---8 points of extra credit---]"
      ]
    },
    {
      "cell_type": "markdown",
      "metadata": {
        "id": "BP7b0ZYDnoV6"
      },
      "source": [
        "### [4 points] Problem 1\n",
        " \n",
        "Which of the following is the functional form of linear regression (assume your dataset has only one attribute/feature):\n",
        "\n",
        "\n",
        "| Option 0 \t| Option 1 \t| Option 2 \t| Option 3 \t| Option 4 \t| \n",
        "|-\t|-\t|-\t|-\t|-\t|\n",
        "| f(w0, w1, w2) = w0 + w1*w2 | f(x) = w0 + w1*x | J(W) = mean squared error\t| J(W) = binary cross-entropy/log loss |Something else \t|\n"
      ]
    },
    {
      "cell_type": "code",
      "metadata": {
        "id": "sbwF-hLQtfBA"
      },
      "source": [
        "def get_prob1_ans():\n",
        "\n",
        "  return 1  # If you think the answer to \n",
        "            # the problem is option n, return n\n"
      ],
      "execution_count": null,
      "outputs": []
    },
    {
      "cell_type": "markdown",
      "metadata": {
        "id": "RFbLRRjKqEk3"
      },
      "source": [
        "### [4 points] Problem 2\n",
        " \n",
        "A machine learning model is a function of the \\_\\_\\_\\_\\_\n",
        "\n",
        "| Option 0 \t| Option 1 \t| Option 2 \t| Option 3 \t| Option 4 \t| Option 5 \t|\n",
        "|-\t|-\t|-\t|-\t|-\t|-\t|\n",
        "| code | loss | data | labels | gradient descent algorithm | Something else |\n",
        "\n"
      ]
    },
    {
      "cell_type": "code",
      "metadata": {
        "id": "S7Rtqgj7qPqM"
      },
      "source": [
        "def get_prob2_ans():\n",
        "  # CHECK\n",
        "  return 2  # If you think the answer to \n",
        "            # the problem is option n, return n\n"
      ],
      "execution_count": null,
      "outputs": []
    },
    {
      "cell_type": "markdown",
      "metadata": {
        "id": "6AesGPkBrMz7"
      },
      "source": [
        "### [4 points] Problem 3\n",
        " \n",
        "The *loss* is a function (usually represented with the letter J) of the  \\_\\_\\_\\_\\_\n",
        "\n",
        "| Option 0 \t| Option 1 \t| Option 2 \t| Option 3 \t| Option 4 \t| Option 5 \t|\n",
        "|-\t|-\t|-\t|-\t|-\t|-\t|\n",
        "| code | attributes / features | test data | weights / parameters | gradient descent algorithm | Something else |\n",
        "\n"
      ]
    },
    {
      "cell_type": "code",
      "metadata": {
        "id": "1SWoSluYrRA_"
      },
      "source": [
        "def get_prob3_ans():\n",
        "\n",
        "  return 3  # If you think the answer to \n",
        "            # the problem is option n, return n\n"
      ],
      "execution_count": null,
      "outputs": []
    },
    {
      "cell_type": "markdown",
      "metadata": {
        "id": "AZcEDR6irlig"
      },
      "source": [
        "### [4 points] Problem 4\n",
        "\t\n",
        "When training a logistic regression model, gradient descent is used to \\_\\_\\_\\_\\_ the loss function.\n",
        "\n",
        "| Option 0 \t| Option 1 \t| Option 2 \t| Option 3 \t| Option 4 \t|\n",
        "|-\t|-\t|-\t|-\t|-\t|\n",
        "| define \t| test \t| minimize \t| maximize |  Something else \t|\n"
      ]
    },
    {
      "cell_type": "code",
      "metadata": {
        "id": "0On0U2V0rwdC"
      },
      "source": [
        "def get_prob4_ans():\n",
        "\n",
        "  return 2  # If you think the answer to \n",
        "            # the problem is option n, return n\n"
      ],
      "execution_count": null,
      "outputs": []
    },
    {
      "cell_type": "markdown",
      "metadata": {
        "id": "E8zPMGy4MKmf"
      },
      "source": [
        "### [4 points] Problem 5\n",
        "\t\n",
        "Say you run gradient descent for a few epochs and you realize that the loss keeps going up after every iteration. What can you say about the learing rate? \n",
        "\n",
        "| Option 0 \t| Option 1 \t| Option 2 \t| Option 3 \t| Option 4 \t|\n",
        "|-\t|-\t|-\t|-\t|-\t|\n",
        "| It's too large\t| It's too small \t| It has become 0 | It has become +infinity |  Something else \t|\n",
        "\n"
      ]
    },
    {
      "cell_type": "code",
      "source": [
        "def get_prob5_ans():\n",
        "  # It's to large since the slope would to the other side of the minima and backwards\n",
        "  # never reaching the minima.\n",
        "  return 0  # If you think the answer to \n",
        "            # the problem is option n, return n\n"
      ],
      "metadata": {
        "id": "pveuX_rzMhTc"
      },
      "execution_count": null,
      "outputs": []
    },
    {
      "cell_type": "markdown",
      "source": [
        "### [4 points] Problem 6\n",
        "\n",
        "If the learning rate is set properly, gradient descent will \\_\\_\\_\\_\\_ find the global minimum (up to a small epislon) of the loss function. \n",
        "\n",
        "| Option 0 \t| Option 1 \t| Option 2 \t| Option 3 \t| \n",
        "|-\t|-\t|-\t|-\t|\n",
        "|  never\t| sometimes\t| always \t| Something else \t|\n"
      ],
      "metadata": {
        "id": "CJRsv-wOMmqv"
      }
    },
    {
      "cell_type": "code",
      "source": [
        "def get_prob6_ans():\n",
        "  # check\n",
        "  return 1  # If you think the answer to \n",
        "            # the problem is option n, return n\n"
      ],
      "metadata": {
        "id": "gOEYGbjHM-MO"
      },
      "execution_count": null,
      "outputs": []
    },
    {
      "cell_type": "markdown",
      "source": [
        "### [4 points] Problem 7\n",
        "In stochastic gradient descent, we use \\_\\_\\_\\_\\_ to estimate the gradient. \n",
        "\n",
        "| Option 0 \t| Option 1 \t| Option 2 \t| Option 3 \t| Option 4 \t| Option 5 \t|\n",
        "|-\t|-\t|-\t|-\t|-\t|-\t|\n",
        "|  all training <br/>examples\t| the first examples<br/> in the training <br/>dataset \t| the last examples <br/>in the training <br/>dataset \t| a randomly selected <br/>subset of the <br/>training examples | the hardest examples<br/> to classify<br/> in the training dataset | Something else \t|\n"
      ],
      "metadata": {
        "id": "3BsIA_s5M-1Q"
      }
    },
    {
      "cell_type": "code",
      "source": [
        "def get_prob7_ans():\n",
        "  # Stochastic random\n",
        "  return 3  # If you think the answer to \n",
        "            # the problem is option n, return n\n"
      ],
      "metadata": {
        "id": "-n2jGk5jNGNR"
      },
      "execution_count": null,
      "outputs": []
    },
    {
      "cell_type": "markdown",
      "source": [
        "### [4 points] Problem 8\n",
        "\t\n",
        "Which of the following is the function used in logistic regression?\n",
        "\n",
        "Option 0: $h(z) = log(z) * log(-z)$\t \n",
        "\n",
        "Option 1: $h(z) = w_0+w_1*z $ \t\n",
        "\n",
        "Option 2: $h(z) = \\frac{1}{1+e^{-z}}$\t\n",
        "\n",
        "Option 3: $h(z) = max(0,z)$ \n",
        "\n",
        "Option 4: $h(z) = ∑(z-z')^2$ \n",
        "\n",
        "Option 5: Something else"
      ],
      "metadata": {
        "id": "0R_i0kRoNSFS"
      }
    },
    {
      "cell_type": "code",
      "source": [
        "def get_prob8_ans():\n",
        "  # Sigmoid Function\n",
        "  return 2  # If you think the answer to \n",
        "            # the problem is option n, return n\n"
      ],
      "metadata": {
        "id": "J3mwugrGfMR6"
      },
      "execution_count": null,
      "outputs": []
    },
    {
      "cell_type": "markdown",
      "source": [
        "### [4 points] Problem 9\n",
        "\t\n",
        "Say you are training a logistic regression classifier using gradient descent and logistic loss / binary cross-entropy as the loss function. Which of the following is true? \n",
        "\n",
        "\n",
        "**Option 0:** The loss function is not differentiable \n",
        "\n",
        "**Option 1:** The loss function is differentiable but not convex\n",
        "\n",
        "**Option 2:** The loss function is not differentiable nor  convex\n",
        "\n",
        "**Option 3:** The loss function is differentiable and convex, so gradient descent (setup properly) will find the global minimum. \n",
        "\n",
        "**Option 4:** The loss function is differentiable and convex, but gradient descent (setup properly) is more likely to find a local minimum than the global one."
      ],
      "metadata": {
        "id": "eK9_sI1rfQJ2"
      }
    },
    {
      "cell_type": "code",
      "source": [
        "def get_prob9_ans():\n",
        "\n",
        "  return 3  # If you think the answer to \n",
        "            # the problem is option n, return n\n"
      ],
      "metadata": {
        "id": "xvowIJBDiy_b"
      },
      "execution_count": null,
      "outputs": []
    },
    {
      "cell_type": "markdown",
      "source": [
        "### [4 points] Problem 10\n",
        "\n",
        "Which of these logical operations cannot be learned with logistic regression?\n",
        "\n",
        "| Option 0 \t| Option 1 \t| Option 2 \t| Option 3 \t| Option 4 \t| Option 5 \t|\n",
        "|-\t|-\t|-\t|-\t|-\t|-\t|\n",
        "|  and | xor | or | nand | not | Something else |"
      ],
      "metadata": {
        "id": "txJkds1QjL0o"
      }
    },
    {
      "cell_type": "code",
      "source": [
        "def get_prob10_ans():\n",
        "\n",
        "  return 1  # If you think the answer to \n",
        "            # the problem is option n, return n\n"
      ],
      "metadata": {
        "id": "OEUl4v2gjvAF"
      },
      "execution_count": null,
      "outputs": []
    },
    {
      "cell_type": "markdown",
      "source": [
        "### [4 points] Problem 11\n",
        "\t\n",
        "The loss landscape of an artificial neural network is very unlikely to be \\_\\_\\_\\_\\_\n",
        "\n",
        "\n",
        "**Option 0:** Differentiable \n",
        "\n",
        "**Option 1:** Complex\n",
        "\n",
        "**Option 2:** Convex\n",
        "\n",
        "**Option 3:** Mathematically defined\n"
      ],
      "metadata": {
        "id": "Mw6dIw1mjs_U"
      }
    },
    {
      "cell_type": "code",
      "source": [
        "def get_prob11_ans():\n",
        "\n",
        "  return 2  # If you think the answer to \n",
        "            # the problem is option n, return n\n"
      ],
      "metadata": {
        "id": "RiFk-l9Kjwc4"
      },
      "execution_count": null,
      "outputs": []
    },
    {
      "cell_type": "markdown",
      "source": [
        "### [4 points] Problem 12\n",
        "\t\n",
        "When training a multi-layer neural network using gradient descent, we estimate partial derivatives by applying the \\_\\_\\_\n",
        "\n",
        "**Option 0:** Chain rule\n",
        "\n",
        "**Option 1:** Logistic loss\n",
        "\n",
        "**Option 2:** Normalization of attributes\n",
        "\n",
        "**Option 3:** Something else\n"
      ],
      "metadata": {
        "id": "RifIEQT-kDVx"
      }
    },
    {
      "cell_type": "code",
      "source": [
        "def get_prob12_ans():\n",
        "\n",
        "  return 0  # If you think the answer to \n",
        "            # the problem is option n, return n\n"
      ],
      "metadata": {
        "id": "vkQ7LfuflVrJ"
      },
      "execution_count": null,
      "outputs": []
    },
    {
      "cell_type": "markdown",
      "source": [
        "### [4 points] Problem 13\n",
        "\n",
        "Which of the following scaling methods is preferred to handle very skewed distributions?\n",
        "\n",
        "**Option 0:** Linear\n",
        "\n",
        "**Option 1:** Clipping\n",
        "\n",
        "**Option 2:** Log Scaling\n",
        "\n",
        "**Option 3:** Z-score\n",
        "\n",
        "**Option 4:** None of the above"
      ],
      "metadata": {
        "id": "n0o6aylglV95"
      }
    },
    {
      "cell_type": "code",
      "source": [
        "def get_prob13_ans():\n",
        "  # Check. It's actually correct log is for skewed functions\n",
        "  return 2  # If you think the answer to \n",
        "            # the problem is option n, return n\n"
      ],
      "metadata": {
        "id": "RuVc6cK6oU0O"
      },
      "execution_count": null,
      "outputs": []
    },
    {
      "cell_type": "markdown",
      "source": [
        "### [4 points] Problem 14\n",
        "\n",
        "Categorical features can be represented as binary vectors where all values are 0, except for one of them. This is called:\n",
        "\n",
        "\n",
        "**Option 0:** Binary representation\n",
        "\n",
        "**Option 1:** Categorical encoding\n",
        "\n",
        "**Option 2:** One-hot encoding\n",
        "\n",
        "**Option 3:** Nominal encoding\n",
        "\n",
        "**Option 4:** Out of vocabulary representation\n",
        "\n",
        "\n"
      ],
      "metadata": {
        "id": "k5QvosEsoj9N"
      }
    },
    {
      "cell_type": "code",
      "source": [
        "def get_prob14_ans():\n",
        "\n",
        "  return 2  # If you think the answer to \n",
        "            # the problem is option n, return n\n"
      ],
      "metadata": {
        "id": "nuuPv6Bkrf6-"
      },
      "execution_count": null,
      "outputs": []
    },
    {
      "cell_type": "markdown",
      "source": [
        "### [4 points] Problem 15\n",
        "\n",
        "What is the output of the convolutional operation given the following image and filter?\n",
        "![image.png](data:image/png;base64,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)"
      ],
      "metadata": {
        "id": "YF12g99SrsK4"
      }
    },
    {
      "cell_type": "code",
      "source": [
        "def get_prob15_ans():\n",
        "\n",
        "  return 2.5  # Return your answer\n"
      ],
      "metadata": {
        "id": "ileb_N-sse3p"
      },
      "execution_count": null,
      "outputs": []
    },
    {
      "cell_type": "markdown",
      "source": [
        "### [4 points] Problem 16\n",
        "\n",
        "In contrast to one-hot vectors, word embeddings capute word *meanings*.\n",
        "\n",
        "**Option 0:** True\n",
        "\n",
        "**Option 1:** False\n"
      ],
      "metadata": {
        "id": "Vr4EP-P0stxX"
      }
    },
    {
      "cell_type": "code",
      "source": [
        "def get_prob16_ans():\n",
        "\n",
        "  return 0  \n"
      ],
      "metadata": {
        "id": "QXWpOzgSsyFl"
      },
      "execution_count": null,
      "outputs": []
    },
    {
      "cell_type": "markdown",
      "source": [
        "### [11 points] Problem 17\n",
        "\n",
        "Using a subset of the MNIST dataset, do the following:\n",
        "\n",
        "1. Build a logistic regression classifier on the training dataset \n",
        "2. With the trained model, predict the class of all examples in the testing dataset \n",
        "3. Using the parameter digit_id, find all test images whose true class is digit_id, but were misclassified by the model. \n",
        "4. Find the most common predicted class in these misclassified images and return it. \n",
        "\n",
        "\n",
        "For reproducibility purposes, build your classifier as follows (we'll use sklearn):\n",
        "\n",
        "    model = LogisticRegression(solver='lbfgs', max_iter=1000,random_state=0)\n",
        "    model.fit(x, y)\n",
        "\n",
        "Here's an example that shows how to get class predictions (actual class labels, not probabilities) using the trained model.\n",
        "\n",
        "    predictions = model.predict(x)\n",
        "    "
      ],
      "metadata": {
        "id": "dM65L03qQcU7"
      }
    },
    {
      "cell_type": "code",
      "source": [
        "from sklearn.linear_model import LogisticRegression\n",
        "import numpy as np\n",
        "import tensorflow as tf\n",
        "\n",
        "def get_mnist_subset():\n",
        "  np.random.seed(0) # For reproducibility purposes\n",
        "  (x_train, y_train), (x_test, y_test) = tf.keras.datasets.mnist.load_data()\n",
        "  x_train = x_train.reshape((x_train.shape[0], -1)) / 255.0 # Flatten images\n",
        "  x_test = x_test.reshape((x_test.shape[0], -1)) / 255.0  # Flatten images\n",
        "\n",
        "  train_idx = np.random.permutation(np.arange(x_train.shape[0]))\n",
        "  test_idx = np.random.permutation(np.arange(x_test.shape[0]))\n",
        "\n",
        "  x_train, y_train = x_train[train_idx], y_train[train_idx]\n",
        "  x_test, y_test = x_test[test_idx], y_test[test_idx]\n",
        "\n",
        "  return x_train[:2000], y_train[:2000], x_test[:500], y_test[:500]\n",
        "   \n",
        "# Feel free to add helper methods, just don't change the signature\n",
        "def problem_17(digit_id):\n",
        "  x_train, y_train, x_test, y_test = get_mnist_subset()\n",
        "\n",
        "  # Your code goes here\n",
        "\n",
        "  model  = LogisticRegression(solver='lbfgs', max_iter=1000, random_state=0)\n",
        "  model.fit(x_train, y_train)\n",
        "\n",
        "  predictions = model.predict(x_test)\n",
        "\n",
        "  mask = y_test == digit_id\n",
        "\n",
        "  predictions_masked = predictions[mask]\n",
        "\n",
        "  missclassified = predictions_masked[predictions_masked != digit_id]\n",
        "\n",
        "  return np.argmax(np.bincount(missclassified))  # Feel free to change/remove this line\n",
        "\n",
        "\n"
      ],
      "metadata": {
        "id": "V-KwGoTzR8Nu"
      },
      "execution_count": null,
      "outputs": []
    },
    {
      "cell_type": "code",
      "source": [
        "a = np.array([True, True, False])\n",
        "b = np.array([1,2,3])\n",
        "\n",
        "c = b[a]\n",
        "print(c)\n"
      ],
      "metadata": {
        "colab": {
          "base_uri": "https://localhost:8080/"
        },
        "id": "-v6Y5bFm8PrD",
        "outputId": "fe3ce7c8-f782-4857-8b5e-6e3970f3e8c5"
      },
      "execution_count": null,
      "outputs": [
        {
          "output_type": "stream",
          "name": "stdout",
          "text": [
            "[1 2]\n"
          ]
        }
      ]
    },
    {
      "cell_type": "markdown",
      "source": [
        "### [11 points] Problem 18\n",
        "\n",
        "Using a subset of the MNIST dataset, do the following:\n",
        "\n",
        "1. Build a support vector machine classifier on the training dataset \n",
        "2. With the trained model, predict the class of all examples in the testing dataset \n",
        "3. Using the parameter digit_id, find all test images whose predicted class is digit_id, but were misclassified by the model. \n",
        "4. Find the most common true class in these misclassified images and return it. \n",
        "\n",
        "\n",
        "For reproducibility purposes, build your classifier as follows (we'll use sklearn):\n",
        "\n",
        "    model = SVC(random_state=0)\n",
        "    model.fit(x, y)\n",
        "\n",
        "Here's an example that shows how to get class predictions (actual class labels, not probabilities) using the trained model.\n",
        "\n",
        "    predictions = model.predict(x)\n",
        "    "
      ],
      "metadata": {
        "id": "IOVRzpDub72z"
      }
    },
    {
      "cell_type": "code",
      "source": [
        "from sklearn.svm import SVC\n",
        "import numpy as np\n",
        "import tensorflow as tf\n",
        "\n",
        "def get_mnist_subset():\n",
        "  np.random.seed(0) # For reproducibility purposes\n",
        "  (x_train, y_train), (x_test, y_test) = tf.keras.datasets.mnist.load_data()\n",
        "  x_train = x_train.reshape((x_train.shape[0], -1)) / 255.0 # Flatten images\n",
        "  x_test = x_test.reshape((x_test.shape[0], -1)) / 255.0  # Flatten images\n",
        "\n",
        "  train_idx = np.random.permutation(np.arange(x_train.shape[0]))\n",
        "  test_idx = np.random.permutation(np.arange(x_test.shape[0]))\n",
        "\n",
        "  x_train, y_train = x_train[train_idx], y_train[train_idx]\n",
        "  x_test, y_test = x_test[test_idx], y_test[test_idx]\n",
        "\n",
        "  return x_train[:2000], y_train[:2000], x_test[:500], y_test[:500]\n",
        "   \n",
        "# Feel free to add helper methods, just don't change the signature\n",
        "def problem_18(digit_id):\n",
        "  x_train, y_train, x_test, y_test = get_mnist_subset()\n",
        "\n",
        "  # Your code goes here\n",
        "\n",
        "  model = SVC(random_state=0)\n",
        "  model.fit(x_train, y_train)\n",
        "\n",
        "  preds = model.predict(x_train)\n",
        "\n",
        "  mask = preds == digit_id\n",
        "\n",
        "  y_true_masked = y_test[mask]\n",
        "\n",
        "  missclassified = y_true_masked[y_true_masked != digit_id]\n",
        "\n",
        "  return np.argmax(np.bincount(missclassified))  # Feel free to change/remove this line"
      ],
      "metadata": {
        "id": "QXdUKbcRb3AP"
      },
      "execution_count": null,
      "outputs": []
    },
    {
      "cell_type": "markdown",
      "source": [
        "### [11 points] Problem 19\n",
        "\n",
        "Using a subset of the MNIST dataset, do the following:\n",
        "\n",
        "1. Using the training dataset, build a k-means model (k=20).\n",
        "2. Use the built model to cluster the testing dataset \n",
        "3. Return the id of the largest cluster\n",
        "\n",
        "\n",
        "For reproducibility purposes, build your classifier as follows (we'll use sklearn):\n",
        "\n",
        "    model = KMeans(n_clusters=k, random_state=0).fit(X)\n",
        "    model.fit(x)\n",
        "\n",
        "Here's an example that shows how to get the cluster assignments for the training examples: \n",
        "\n",
        "    model.labels_\n",
        "\n",
        "Here's an example that shows how to get cluster assignments of another dataset: \n",
        "    \n",
        "    model.predict(other_dataset)"
      ],
      "metadata": {
        "id": "S6j7z2SOU0F8"
      }
    },
    {
      "cell_type": "code",
      "source": [
        "from sklearn.cluster import KMeans\n",
        "import numpy as np\n",
        "import tensorflow as tf\n",
        "\n",
        "def get_mnist_subset():\n",
        "  np.random.seed(0) # For reproducibility purposes\n",
        "  (x_train, y_train), (x_test, y_test) = tf.keras.datasets.mnist.load_data()\n",
        "  x_train = x_train.reshape((x_train.shape[0], -1)) / 255.0 # Flatten images\n",
        "  x_test = x_test.reshape((x_test.shape[0], -1)) / 255.0  # Flatten images\n",
        "\n",
        "  train_idx = np.random.permutation(np.arange(x_train.shape[0]))\n",
        "  test_idx = np.random.permutation(np.arange(x_test.shape[0]))\n",
        "\n",
        "  x_train, y_train = x_train[train_idx], y_train[train_idx]\n",
        "  x_test, y_test = x_test[test_idx], y_test[test_idx]\n",
        "\n",
        "  return x_train[:2000], y_train[:2000], x_test[:500], y_test[:500]\n",
        "   \n",
        "# Feel free to add helper methods, just don't change the signature\n",
        "def problem_19():\n",
        "  x_train, y_train, x_test, y_test = get_mnist_subset()\n",
        "\n",
        "  # Your code goes here\n",
        "\n",
        "  model = KMeans(n_clusters=20, random_state=0).fit(x_train)\n",
        "  model.fit(x_train)\n",
        "\n",
        "  # labels_training = model.labels_\n",
        "\n",
        "  test_clusters = model.predict(x_test)\n",
        "\n",
        "  # labels_test = model.labels_\n",
        "\n",
        "  return np.argmax(np.bincount(test_clusters))  # Feel free to change/remove this line\n",
        "\n",
        "\n"
      ],
      "metadata": {
        "id": "LlRhhxle41_y"
      },
      "execution_count": null,
      "outputs": []
    },
    {
      "cell_type": "markdown",
      "source": [
        "### [11 points] Problem 20\n",
        "\n",
        "Using a subset of the MNIST dataset, complete the implementation of the build_model method - instructions on how to do this are given as comments\n"
      ],
      "metadata": {
        "id": "AafrC0Yee1dl"
      }
    },
    {
      "cell_type": "code",
      "source": [
        "from tensorflow import keras\n",
        "\n",
        "def build_model(input_shape, learning_rate=0.01):  \n",
        "  tf.keras.backend.clear_session()\n",
        "  np.random.seed(0)\n",
        "  tf.random.set_seed(0)\n",
        "\n",
        "  num_classes = 10\n",
        "\n",
        "  model = keras.Sequential()\n",
        "\n",
        "  model.add(keras.layers.Conv2D(filters=32, kernel_size=(3, 3), padding='same',\n",
        "                  input_shape=input_shape))\n",
        "  \n",
        "  model.add(keras.layers.Activation('relu'))\n",
        "  model.add(keras.layers.MaxPooling2D(pool_size=(2, 2)))\n",
        "\n",
        "\n",
        "  # Add a Conv2D layer with 16 filters and kernel size (3, 3)\n",
        "  # Your code here\n",
        "  model.add(keras.layers.Conv2D(filters=16, kernel_size=(3, 3)))\n",
        "\n",
        "  # Add an Activation layer (relu)\n",
        "  # Your code here\n",
        "  model.add(keras.layers.Activation('relu'))\n",
        "\n",
        "  # Add a MaxPooling2D layer with pool_size=(2, 2)\n",
        "  # Your code here\n",
        "  model.add(keras.layers.MaxPooling2D(pool_size=(2, 2)))\n",
        "\n",
        "  # Add a Conv2D layer with 32 filters, kernel size (3, 3), and padding = 'same'\n",
        "  # Your code here\n",
        "  model.add(keras.layers.Conv2D(filters=32, kernel_size=(3, 3), padding='same'))\n",
        "  \n",
        "  # Add an Activation layer (relu)\n",
        "  # Your code here\n",
        "  model.add(keras.layers.Activation('relu'))\n",
        "  \n",
        "  model.add(keras.layers.Flatten())\n",
        "\n",
        "  \n",
        "  # Add a Dense layer with 512 units\n",
        "  # Your code here\n",
        "  model.add(keras.layers.Dense(units=num_classes))\n",
        "  model.add(keras.layers.Dense(units=512))\n",
        "\n",
        "  # Add an Activation layer (relu)\n",
        "  # Your code here\n",
        "  model.add(keras.layers.Activation('relu'))\n",
        "\n",
        "  model.add(keras.layers.Dense(units=num_classes))\n",
        "  model.add(keras.layers.Activation('softmax'))\n",
        "  \n",
        "  optimizer = tf.keras.optimizers.SGD(learning_rate=learning_rate)\n",
        "  \n",
        "  model.compile(loss=keras.losses.sparse_categorical_crossentropy,\n",
        "              optimizer=optimizer,\n",
        "              metrics=['accuracy'])\n",
        "\n",
        "\n",
        "  return model\n",
        "\n",
        "model = build_model((32,32,3), learning_rate=0.01)"
      ],
      "metadata": {
        "id": "ysVgHe_KfS92"
      },
      "execution_count": null,
      "outputs": []
    },
    {
      "cell_type": "markdown",
      "metadata": {
        "id": "Pvc8YZjiyMO5"
      },
      "source": [
        "## How to Submit This Exam\n",
        "\n",
        "1. File > Download .ipynb\n",
        "2. Go to Blackboard, find the lab submission page, and upload the .ipynb file you just downloaded."
      ]
    }
  ]
}